{
 "cells": [
  {
   "cell_type": "markdown",
   "metadata": {},
   "source": [
    "# ESSC4510/EASC5510\n",
    "\n",
    "## Filter and convolution\n",
    "\n",
    "The following tutorial demonstate\n",
    "\n",
    "- Modeling linear time invariant system\n",
    "- Inverting empirical green's function\n",
    "- Convolution and filtering\n",
    "\n",
    "Date: 03/2021 \n",
    "@Jw"
   ]
  },
  {
   "cell_type": "code",
   "execution_count": 1,
   "metadata": {},
   "outputs": [],
   "source": [
    "# eda07_00 clear all variables and import vatious modules\n",
    "%reset -f\n",
    "import os\n",
    "from datetime import date\n",
    "from math import exp, pi, sin, sqrt, floor, ceil\n",
    "import numpy as np\n",
    "import scipy.sparse.linalg as las\n",
    "from scipy import sparse\n",
    "import scipy.linalg as la\n",
    "import scipy.signal as sg\n",
    "from matplotlib import pyplot as plt\n",
    "import matplotlib.cm as cm\n",
    "from matplotlib.colors import ListedColormap\n",
    "\n",
    "# eda_draw function makes a \"pictorial matrix equation\"\n",
    "# arguments are vectors, matrices and strings\n",
    "# which are plotted in the order that the appear\n",
    "# except that strings starting with 'title ' are plotted\n",
    "# under the subseqeunt matrix or vector\n",
    "# always returns a status of 1\n",
    "\n",
    "def eda_draw(*argv):\n",
    "    bw = np.zeros((256,4));\n",
    "    v = 0.9*(256 - np.linspace( 0, 255, 256 ))/255;\n",
    "    bw[:,0] = v;\n",
    "    bw[:,1] = v;\n",
    "    bw[:,2] = v;\n",
    "    bw[:,3] = np.ones(256);\n",
    "    bwcmap = ListedColormap(bw);\n",
    "    # size of plot\n",
    "    W = 16;\n",
    "    H = 4;\n",
    "    fig1 = plt.figure(1);\n",
    "    # figsize width and height in inches\n",
    "    fig1.set_size_inches(W,H);\n",
    "    ax1 = plt.subplot(1,1,1);\n",
    "    plt.axis([0, W, -H/2, H/2]);\n",
    "    plt.axis('off');\n",
    "    LM = W/6;    # matrix width and heoght\n",
    "    LV = W/40;   # vector width\n",
    "    FS = 0.12;    # character width\n",
    "    TO = 0.4;    # title vertical offset\n",
    "    SP = 0.2;    # space between objects\n",
    "    LS = 0.2;    # leading space\n",
    "    p = LS; # starting x-position\n",
    "    istitle=0; # flags presence of a title\n",
    "    for a in argv:\n",
    "        if isinstance(a,np.ndarray):\n",
    "            sh = np.shape(a);\n",
    "            if len(sh) == 1:  # conversion to nx1 array\n",
    "                n = sh[0];\n",
    "                m = 1;\n",
    "                ap = a;\n",
    "                a = np.zeros((n,1));\n",
    "                a[:,0] = ap;\n",
    "            else:\n",
    "                n = sh[0];\n",
    "                m = sh[1];\n",
    "            if m==1:\n",
    "                pold=p;\n",
    "                left=p;\n",
    "                right=p+LV;\n",
    "                bottom=-LM/2;\n",
    "                top=LM/2;\n",
    "                plt.imshow( a, cmap=bwcmap, vmin=np.min(a), vmax=np.max(a), extent=(left,right,bottom,top) );\n",
    "                p = p+LV;\n",
    "                pm = (p+pold)/2;\n",
    "                if istitle:\n",
    "                    plt.text(pm,-(LM/2)-TO,titlestr,horizontalalignment='center');\n",
    "                    istitle=0;\n",
    "                p = p+SP;\n",
    "            else:\n",
    "                pold=p;\n",
    "                left=p;\n",
    "                right=p+LM;\n",
    "                bottom=-LM/2;\n",
    "                top=LM/2;\n",
    "                plt.imshow( a, cmap=bwcmap, vmin=np.min(a), vmax=np.max(a), extent=(left,right,bottom,top) );\n",
    "                p = p+LM;\n",
    "                pm = (p+pold)/2;\n",
    "                if istitle:\n",
    "                    plt.text(pm,-(LM/2)-TO,titlestr,horizontalalignment='center');\n",
    "                    istitle=0;\n",
    "                p = p+SP;\n",
    "        elif isinstance(a,str):\n",
    "            ns = len(a);\n",
    "            istitle=0;\n",
    "            if( ns>=6 ):\n",
    "                if 'title ' in a[0:6]:\n",
    "                    istitle=1;\n",
    "                    titlestr=a[6:];\n",
    "            if( istitle != 1):\n",
    "                plt.text(p,0,a);\n",
    "                p = p + ns*FS + SP;\n",
    "    plt.show();\n",
    "    return 1;\n",
    "\n",
    "\n",
    "def FTFmul(v):\n",
    "    # this function is used by the bicongugate gradient solver to solve the geneneralized least\n",
    "    # squares problem Fm=f.  Note that \"F\" must be called \"edaFsparse\".\n",
    "    global edaFsparse;\n",
    "    s = np.shape(v);\n",
    "    if(len(s)==1):\n",
    "        vv = np.zeros((s[0],1));\n",
    "        vv[:,0] = v;\n",
    "    else:\n",
    "        vv=v;\n",
    "    temp = edaFsparse*vv;\n",
    "    return edaFsparse.transpose()*temp;\n",
    "\n",
    "\n",
    "def GLSFilterMul(v):\n",
    "    # this function is used by the bicongugate gradient solver to solve the\n",
    "    # geneneralized least squares problem Fm=f with F=[G;H] and f=[d,h],\n",
    "    # where G is a topplitz matrix built from the filter g\n",
    "    # Note that \"H\" must be sparese and called \"edaHsparse\" and that\n",
    "    # the filter \"g\" bust be called edafilterg and must be a column vector\n",
    "    global edaHsparse;\n",
    "    global edafilterg;\n",
    "    # rearrange as column-vector\n",
    "    s = np.shape(v);\n",
    "    M = s[0];\n",
    "    if(len(s)==1):\n",
    "        vv = np.zeros((s[0],1));\n",
    "        vv[:,0] = v;\n",
    "    else:\n",
    "        vv=v;\n",
    "    N, i = np.shape(edafilterg);\n",
    "    # implements (GT G + HT H) v\n",
    "    temp1 = np.zeros((N+M-1,1));\n",
    "    temp1[:,0] = np.convolve(edafilterg.ravel(),vv.ravel()); # G v is of length N\n",
    "    a = np.zeros((N,1));\n",
    "    a[:,0] = temp1[0:N,0];\n",
    "    b = edaHsparse * v; # H v is of length K\n",
    "    temp2 = np.zeros((N+N-1,1));\n",
    "    temp2[:,0] = np.convolve((np.flipud(edafilterg)).ravel(),a.ravel()); # GT (G v) is of length M\n",
    "    a2 = temp2[N-1:N+M-1,0];\n",
    "    b2 = edaHsparse.transpose()*b; # HT (H v) is of length M\n",
    "    # FT F v = GT G v + HT H v\n",
    "    return (a2+b2);"
   ]
  },
  {
   "cell_type": "markdown",
   "metadata": {
    "slideshow": {
     "slide_type": "-"
    }
   },
   "source": [
    "### 0.1 Summary of Filters\n",
    "\n",
    "**Definition of a filter**\n",
    "   \n",
    "A filter is a time series **f** (of length L) that expresses a linear relationship between an output time series **d** (of length N) and an input time series **m** (of length M = N) through an operation called a *convolution*.\n",
    "\n",
    "\n",
    "**Convolution notation**\n",
    "$$d = f \\circledast m \\text{   which is equivalent to   } d = m \\circledast f $$\n",
    "$\\circledast$ denotes convolution operations.\n",
    "\n",
    "\n",
    "**When to use a filter**\n",
    "\n",
    "Use a filter when **d** depends on the past history of **m**.\n",
    "\n",
    "**Length of a filter**\n",
    "\n",
    "L expresses the duration of the past that influences the present. Filters can be of any length, but short filters (L << N) usually behave better than long filters.\n",
    "\n",
    "\n",
    "**Matrix forms of the convolution**\n",
    "\n",
    "Refer to Crib Sheet 7.1\n",
    "\n",
    "**Computing a convolution**\n",
    "\n",
    "\n",
    "    d = np.convolve(f,m) # perform convolution\n",
    "    d = d[0:N] # truncate result to length N (optional)"
   ]
  },
  {
   "cell_type": "markdown",
   "metadata": {},
   "source": [
    "### 1.1 Heat-production layer - Example filter problem"
   ]
  },
  {
   "cell_type": "markdown",
   "metadata": {},
   "source": [
    "#### 1.1.1 Parameterize  Problem\n",
    "\n",
    "Consider a heat-production layer with the following properties"
   ]
  },
  {
   "cell_type": "code",
   "execution_count": 2,
   "metadata": {},
   "outputs": [],
   "source": [
    "# Example of a filter problem\n",
    "# using impulse response of a heat-production layer\n",
    "\n",
    "# time setup for g (length M)\n",
    "M = 1024\n",
    "N=M\n",
    "Dtdays = 0.5\n",
    "tdays = np.zeros((N,1))\n",
    "tdays[:,0] = Dtdays*np.linspace(0,(N-1),N)\n",
    "Dtseconds = Dtdays*3600*24\n",
    "tseconds = Dtseconds*tdays"
   ]
  },
  {
   "cell_type": "code",
   "execution_count": 3,
   "metadata": {},
   "outputs": [],
   "source": [
    "# material constants\n",
    "rho = 1500      # kg/m3\n",
    "cp = 800        # J/kg K\n",
    "kappa = 1.25e-6 # m2/s\n",
    "z = 1           # m"
   ]
  },
  {
   "cell_type": "markdown",
   "metadata": {},
   "source": [
    "#### 1.1.2 Filter as the impulse response of the system\n",
    "\n",
    "Impulse response: Consider a spike $\\delta(x_0,t_0)$ at $x = x_0, t = t_0$ in the system. The response of the system is the impulse response.\n",
    "\n",
    "- Here is the analytical solution from the heat diffusion equation (please refer to ESSC3120)\n",
    "\n",
    "- Derivation please refer: https://esscstudycenter.github.io/materials/Handbook.pdf pp.151-153"
   ]
  },
  {
   "cell_type": "code",
   "execution_count": 4,
   "metadata": {},
   "outputs": [
    {
     "data": {
      "image/png": "[encoded data removed]",
      "text/plain": [
       "<Figure size 576x288 with 1 Axes>"
      ]
     },
     "metadata": {
      "needs_background": "light"
     },
     "output_type": "display_data"
    }
   ],
   "source": [
    "# impulse response\n",
    "g = np.zeros((M,1))\n",
    "g[0,0] = 0.0\n",
    "P1 = (1/(rho*cp))\n",
    "P2 = (Dtseconds/sqrt(2*pi))\n",
    "P3 = np.reciprocal( np.sqrt(2*kappa*tseconds[1:M]))\n",
    "P4 = np.exp( -0.5*(z**2)*np.reciprocal(2*kappa*tseconds[1:M]))\n",
    "g[1:M,0] = (P1 * P2 * np.multiply(P3 ,P4)).ravel()\n",
    "\n",
    "# plot impulse response\n",
    "fig1 = plt.figure(1,figsize=(8,4));\n",
    "ax1 = plt.subplot(3,1,1);\n",
    "plt.axis([tdays[0,0], tdays[M-1,0], 0, 1.1*np.max(g)] );\n",
    "plt.plot(tdays[0:M],g,'k-');\n",
    "plt.xlabel('time t, days');\n",
    "plt.ylabel('g(t)');\n",
    "plt.title('Impules response');"
   ]
  },
  {
   "cell_type": "markdown",
   "metadata": {},
   "source": [
    "#### 1.1.3 Modeling real scenario"
   ]
  },
  {
   "cell_type": "markdown",
   "metadata": {},
   "source": [
    "##### 1.1.3.1 True heat production\n",
    "Consider two spike of heat source at t1 and t2, i.e. in the graph"
   ]
  },
  {
   "cell_type": "code",
   "execution_count": 5,
   "metadata": {},
   "outputs": [
    {
     "data": {
      "image/png": "[encoded data removed]",
      "text/plain": [
       "<Figure size 432x288 with 1 Axes>"
      ]
     },
     "metadata": {
      "needs_background": "light"
     },
     "output_type": "display_data"
    }
   ],
   "source": [
    "#true heat production\n",
    "t1 = Dtdays*N/4;\n",
    "t2 = Dtdays*7*N/16;\n",
    "sd = Dtdays*N/256;\n",
    "Ah=10;\n",
    "P5 = np.exp(-np.power(tdays-t1,2) / (2*sd**2) );\n",
    "P6 = np.exp(-np.power(tdays-t2,2) / (2*sd**2) );\n",
    "htrue = np.zeros((N,1));          \n",
    "htrue[:,0] = (Ah*P5 + 0.5*Ah*P6).ravel();\n",
    "\n",
    "# plot true heat production\n",
    "ax1 = plt.subplot(3,1,2);\n",
    "plt.axis([tdays[0,0], tdays[N-1,0], -1.1*np.max(htrue), 1.1*np.max(htrue)] );\n",
    "plt.plot(tdays[0:M],htrue,'k-');\n",
    "plt.xlabel('time t, days');\n",
    "plt.ylabel('htrue(t)');\n",
    "plt.title('Defined heat production');"
   ]
  },
  {
   "cell_type": "markdown",
   "metadata": {},
   "source": [
    "##### 1.1.3.2 Analytical observations using convolution\n",
    "\n",
    "$$\\theta = H \\circledast G $$\n",
    "\n",
    "<img src=\"Figures/temperature_convolution.png\">\n",
    "\n",
    "Why can we use the convolution to compute the observation?\n",
    "\n",
    "- \n",
    "- \n",
    "\n",
    "--> "
   ]
  },
  {
   "cell_type": "code",
   "execution_count": 6,
   "metadata": {},
   "outputs": [
    {
     "data": {
      "image/png": "[encoded data removed]",
      "text/plain": [
       "<Figure size 432x288 with 1 Axes>"
      ]
     },
     "metadata": {
      "needs_background": "light"
     },
     "output_type": "display_data"
    }
   ],
   "source": [
    "# preduct true temperature\n",
    "qtrue = np.zeros((N,1))\n",
    "tmp = np.convolve(g.ravel(), htrue.ravel())\n",
    "qtrue[0:N,0]=tmp[0:N]\n",
    "\n",
    "# plot true temperature\n",
    "ax1 = plt.subplot(3,1,3);\n",
    "plt.axis([tdays[0,0], tdays[N-1,0], 0, 1.1*np.max(qtrue)] );\n",
    "plt.plot(tdays[0:N],qtrue,'k-');\n",
    "plt.xlabel('time t, days');\n",
    "plt.ylabel('qtrue(t)');\n",
    "plt.title('Analytical solution for heat observation');"
   ]
  },
  {
   "cell_type": "markdown",
   "metadata": {},
   "source": [
    "#### 1.1.4 Inverse the heat production from observations\n",
    "\n",
    "##### 1.1.4.1 Shape of G\n",
    "\n",
    "Apart from the convolution, we can also analysis using linear model. \n",
    "\n",
    "What is the shape of G for the convolution with the impulse reponse?\n",
    "\n",
    "\n",
    "<img src=\"Figures/temperature_time_invariant.png\n",
    "\">\n",
    "\n",
    "Can you find casuality in the kernal G?\n",
    "\n",
    "Can you plot the an impulse response from G?"
   ]
  },
  {
   "cell_type": "code",
   "execution_count": 7,
   "metadata": {},
   "outputs": [],
   "source": [
    "# create simulated observations, qobs = qtrue+noise\n",
    "sigmad=0.001*np.amax(qtrue);\n",
    "qobs=qtrue +np.random.normal(0,sigmad,(N,1));\n",
    "\n",
    "\n",
    "\n",
    "# matrix version of impulse response\n",
    "Gcol = np.concatenate((g,np.zeros((N-M,1))),axis=0);\n",
    "v = np.zeros((1,1));\n",
    "v[0,0]=g[0,0];\n",
    "Grow = np.concatenate((v,np.zeros((1,M-1))),axis=1);\n",
    "G = la.toeplitz( Gcol, Grow )\n",
    "\n",
    "# EDA DRAW G\n",
    "\n",
    "            \n",
    "\n",
    "qtrue2 = np.matmul(G,htrue);\n"
   ]
  },
  {
   "cell_type": "markdown",
   "metadata": {},
   "source": [
    "#### 1.1.4.2 Singularity of inv(GTG)\n",
    "\n",
    "Is this a valid solvable problem? (Using least square method)\n",
    "\n",
    "When does least square method fails?"
   ]
  },
  {
   "cell_type": "code",
   "execution_count": null,
   "metadata": {},
   "outputs": [],
   "source": []
  },
  {
   "cell_type": "markdown",
   "metadata": {},
   "source": [
    "##### 1.1.4.3 Solving using gernealized least square method (1)\n",
    "\n",
    "Too address the ill-condition problem, we will incoperate **prior information** in our analyis\n",
    "\n",
    "In the lecture, we briefly introduced the generalized least square methods. Details could be found in chapter 5 *Quantifying preconceptions*.\n",
    "\n",
    "1) Damped least square solution\n",
    "\n",
    "Prior information: $m^{est}$ is small as $\\sigma_h$\n",
    "\n",
    "$$(G^TG)' = \\epsilon^2I +G^TG \\text{ ,   with }\\epsilon = σ_d/σ_h$$\n",
    "\n",
    "$$ m^{est} = [G^TG]'^{-1}G^T d^{obs}$$\n",
    "\n",
    "ε=0: minimize the prediction error\n",
    "\n",
    "ε→∞: minimize the size of the model parameters \n",
    "\n",
    "0<ε<∞: minimize a combination of the two\n",
    "\n",
    "\n",
    "**Change** $\\epsilon$ \n",
    "\n",
    "---\n",
    "\n",
    "Advantages:\n",
    "- really easy to code - always works\n",
    "\n",
    "Disadvantages:\n",
    "- often need to determine ε empirically\n",
    "- prior information that the model parameters are small not always sensible"
   ]
  },
  {
   "cell_type": "code",
   "execution_count": 8,
   "metadata": {},
   "outputs": [
    {
     "data": {
      "image/png": "[encoded data removed]",
      "text/plain": [
       "<Figure size 432x288 with 2 Axes>"
      ]
     },
     "metadata": {
      "needs_background": "light"
     },
     "output_type": "display_data"
    }
   ],
   "source": [
    "# solve for h given qobs and g using least squares\n",
    "GTG = np.matmul(G.T,G);\n",
    "GTGmax = np.amax(GTG);\n",
    "e2=1e-4*GTGmax;\n",
    "hest1 = la.solve(GTG+e2*np.identity(M), np.matmul(G.T,qobs) );\n",
    "\n",
    "# plot true heat production\n",
    "ax1 = plt.subplot(3,1,2);\n",
    "plt.axis([tdays[0,0], tdays[N-1,0], -1.1*np.max(htrue), 1.1*np.max(htrue)] );\n",
    "plt.plot(tdays[0:N],htrue,'k-');\n",
    "plt.xlabel('time t, days');\n",
    "plt.ylabel('htrue(t)');\n",
    "\n",
    "# plot estimated heat production\n",
    "ax1 = plt.subplot(3,1,3);\n",
    "plt.axis([tdays[0,0], tdays[N-1,0], -1.1*np.max(htrue), 1.1*np.max(htrue)] );\n",
    "plt.plot(tdays[0:N],hest1,'k-');\n",
    "plt.xlabel('time t, days');\n",
    "plt.ylabel('hest1(t)');\n",
    "plt.show();"
   ]
  },
  {
   "cell_type": "markdown",
   "metadata": {},
   "source": [
    "##### 1.1.4.3 Solving using gernealized least square method (2)\n",
    "Prior information: Smoothness\n",
    "\n",
    "\n",
    "<img src=\"Figures/smoothness_prior.png\n",
    "\">\n",
    "Solving generalized least square equation - **Fm=f**"
   ]
  },
  {
   "cell_type": "code",
   "execution_count": 9,
   "metadata": {},
   "outputs": [],
   "source": [
    "# for comparison purposes, solve for h given qobs and g using least squares\n",
    "GTG = np.matmul(G.T,G);\n",
    "GTGmax = np.amax(GTG);\n",
    "e2=1e-2*GTGmax;\n",
    "hest2 = la.solve(GTG+e2*np.identity(M), np.matmul(G.T,qobs) );\n",
    "\n",
    "# generalized leasr squares with F = [G; H]  and  f = [qobs, 0]\n",
    "# second derivative smoothing in interior of interval; nothing on ends\n",
    "e=10*np.amax(G);\n",
    "Hcol = np.zeros((M-2,1));\n",
    "Hcol[0,0] = e;\n",
    "Hrow = np.zeros((1,M));\n",
    "Hrow[0,0] = e;\n",
    "Hrow[0,1] = -2*e;\n",
    "Hrow[0,2] = e;\n",
    "H = la.toeplitz( Hcol, Hrow );\n",
    "h = np.zeros((M-2,1))\n",
    "F = np.concatenate( (G,H), axis=0 );\n",
    "f = np.concatenate( (qobs,h), axis=0 );\n",
    "FTF = np.matmul(F.T,F);\n",
    "hest3 = la.solve(FTF, np.matmul(F.T,f) );"
   ]
  },
  {
   "cell_type": "code",
   "execution_count": 10,
   "metadata": {},
   "outputs": [
    {
     "data": {
      "image/png": "[encoded data removed]",
      "text/plain": [
       "<Figure size 576x288 with 3 Axes>"
      ]
     },
     "metadata": {
      "needs_background": "light"
     },
     "output_type": "display_data"
    },
    {
     "data": {
      "image/png": "[encoded data removed]",
      "text/plain": [
       "<Figure size 576x288 with 3 Axes>"
      ]
     },
     "metadata": {
      "needs_background": "light"
     },
     "output_type": "display_data"
    }
   ],
   "source": [
    "# figure 1\n",
    "fig1 = plt.figure(1,figsize=(8,4));\n",
    "\n",
    "# plot observations\n",
    "ax1 = plt.subplot(3,1,1);\n",
    "plt.axis([tdays[0,0], tdays[N-1,0], 0, 1.1*np.max(qobs)] );\n",
    "plt.plot(tdays[0:N],qobs,'k-');\n",
    "plt.xlabel('time t, days');\n",
    "plt.ylabel('htrue(t)');\n",
    "plt.title('Damped Least Squares');\n",
    "\n",
    "# plot true heat production\n",
    "ax1 = plt.subplot(3,1,2);\n",
    "plt.axis([tdays[0,0], tdays[N-1,0], -1.1*np.max(htrue), 1.1*np.max(htrue)] );\n",
    "plt.plot(tdays[0:N],htrue,'k-');\n",
    "plt.xlabel('time t, days');\n",
    "plt.ylabel('htrue(t)');\n",
    "\n",
    "# plot estimated heat production\n",
    "ax1 = plt.subplot(3,1,3);\n",
    "plt.axis([tdays[0,0], tdays[N-1,0], -1.1*np.max(htrue), 1.1*np.max(htrue)] );\n",
    "plt.plot(tdays[0:N],hest2,'k-');\n",
    "plt.xlabel('time t, days');\n",
    "plt.ylabel('hest(t)');\n",
    "plt.show();\n",
    "\n",
    "# figure 2\n",
    "fig2 = plt.figure(2,figsize=(8,4));\n",
    "\n",
    "# plot observations\n",
    "ax1 = plt.subplot(3,1,1);\n",
    "plt.axis([tdays[0,0], tdays[N-1,0], 0, 1.1*np.max(qobs)] );\n",
    "plt.plot(tdays[0:N],qobs,'k-');\n",
    "plt.xlabel('time t, days');\n",
    "plt.ylabel('htrue(t)');\n",
    "plt.title('Generalized Least Squares with 2nd Derivative Smoothing');\n",
    "\n",
    "# plot true heat production\n",
    "ax1 = plt.subplot(3,1,2);\n",
    "plt.axis([tdays[0,0], tdays[N-1,0], -1.1*np.max(htrue), 1.1*np.max(htrue)] );\n",
    "plt.plot(tdays[0:N],htrue,'k-');\n",
    "plt.xlabel('time t, days');\n",
    "plt.ylabel('htrue(t)');\n",
    "\n",
    "# plot estimated heat production\n",
    "ax1 = plt.subplot(3,1,3);\n",
    "plt.axis([tdays[0,0], tdays[N-1,0], -1.1*np.max(htrue), 1.1*np.max(htrue)] );\n",
    "plt.plot(tdays[0:N],hest3,'k-');\n",
    "plt.xlabel('time t, days');\n",
    "plt.ylabel('hest1(t)');\n",
    "plt.show();"
   ]
  },
  {
   "cell_type": "markdown",
   "metadata": {},
   "source": [
    "## 2.1 Prediction\n",
    "\n",
    "$$\\text{present value = linear function of past values}$$\n",
    "\n",
    "* have to define the length of the linear function\n",
    "\n",
    "$$d_i = p_2d_{i-1} + p_3d_{i-2} + p_4d_{i-3} + ...+ p_Md_{i-M-1}$$"
   ]
  },
  {
   "cell_type": "code",
   "execution_count": 11,
   "metadata": {},
   "outputs": [
    {
     "data": {
      "image/png": "[encoded data removed]",
      "text/plain": [
       "<Figure size 576x288 with 2 Axes>"
      ]
     },
     "metadata": {
      "needs_background": "light"
     },
     "output_type": "display_data"
    },
    {
     "data": {
      "image/png": "[encoded data removed]",
      "text/plain": [
       "<Figure size 576x288 with 2 Axes>"
      ]
     },
     "metadata": {
      "needs_background": "light"
     },
     "output_type": "display_data"
    }
   ],
   "source": [
    "# eda07_05\n",
    "# prediction error filter (pef) for Neuse Rievr Hydrograph\n",
    "# this code uses generalized least squares to implement\n",
    "# the prior information that pef(1)=(-1).  Two solutions\n",
    "# are calculated, one via standard matrix algebra,\n",
    "# (FTF)\\(FTf) and the other via the biconjugate gradient method\n",
    "\n",
    "\n",
    "# read in data\n",
    "D = np.genfromtxt('data/neuse.txt', delimiter='\\t')\n",
    "[N, K]=D.shape;\n",
    "t = np.zeros((N,1)); \n",
    "t[:,0] = D[:,0]; # time in days\n",
    "d = np.zeros((N,1));\n",
    "d[:,0] = D[:,1]; # discharge in cubic meters per second\n",
    "Dt = t[1,0]-t[0,0];\n",
    "tmin = t[0,0];\n",
    "tmax = t[N-1,0];\n",
    "\n",
    "# sizes of various arrays\n",
    "M=100; # length of pef is user tunable\n",
    "K=1;\n",
    "L=N+K;\n",
    "\n",
    "# for a prediction error filter, pef, the data is the filter, g\n",
    "g = d;\n",
    "edafilterg = d;\n",
    "\n",
    "# prior information that first element of the pef is (-1)\n",
    "e=(10^1)*np.amax(g); # large weight\n",
    "H=np.zeros((K,M));\n",
    "H[0,0]=e;\n",
    "h=np.zeros((1,1));\n",
    "h[0,0]=(-e);\n",
    "\n",
    "# Data Kernel (needed only for standard matrix algebra calculation\n",
    "v = np.zeros((1,1));\n",
    "v[0,0]=g[0,0];\n",
    "Grow = np.concatenate((v,np.zeros((1,M-1))),axis=1);\n",
    "G = la.toeplitz( g, Grow );\n",
    "# for pef, Gm=0\n",
    "\n",
    "# F needed only for standard matrix algebra calculation\n",
    "F = np.concatenate( (G, H), axis=0 );\n",
    "rhs = np.zeros((N,1));\n",
    "f = np.concatenate( (rhs, h), axis=0 );\n",
    "\n",
    "# standard GLS solution\n",
    "FTF = np.matmul( F.T, F );\n",
    "FTf = np.matmul( F.T, f );\n",
    "pef1 = la.solve(FTF, FTf );        \n",
    "\n",
    "# now set up for biconjugate gradient method\n",
    "\n",
    "# Hm=h\n",
    "e=(10^1)*np.amax(g); # large weight\n",
    "edaHsparse = sparse.diags([e], [0], shape=(1, M));\n",
    "h=np.zeros((1,1));\n",
    "h[0,0]=(-e);\n",
    "\n",
    "# FT f can be done analytucally:\n",
    "# FTf = GT 0 + HT h = 0 + [e 0 0 ... 0]T [-e] = [-e^2 0 0 ... 0]T\n",
    "FTf = np.zeros((M,1));\n",
    "FTf[0,0] = -(e**2);\n",
    "           \n",
    "# define linear operator needed for conjugate gradienet solver\n",
    "LO=las.LinearOperator(shape=(M,M),matvec=GLSFilterMul,rmatvec=GLSFilterMul);\n",
    "\n",
    "# solve for estimated model parameters using congugate gradient algrorithm\n",
    "r = np.zeros((M,1));\n",
    "q=las.cg(LO,FTf,tol=1e-6, maxiter=(3*(N+M)+100));\n",
    "pef2 = np.zeros((M,1));\n",
    "pef2[:,0] = q[0];\n",
    "\n",
    "# prediction error\n",
    "temp = np.convolve(pef2.ravel(),g.ravel());\n",
    "perror = np.zeros((N,1));\n",
    "perror[:,0] = temp[0:N]\n",
    "           \n",
    "# short time axis\n",
    "tpef = np.zeros((M,1));    \n",
    "tpef[:,0] = t[0:M,0];\n",
    "           \n",
    "# plot pef\n",
    "fig1 = plt.figure(1,figsize=(8,4));\n",
    "\n",
    "# plot prediction error filters\n",
    "ax1 = plt.subplot(2,1,1);\n",
    "plt.axis([ 0, Dt*(M-1), np.min(pef1), np.max(pef1)] );\n",
    "plt.plot(tpef,pef1,'k-');\n",
    "plt.xlabel('time t, days');\n",
    "plt.ylabel('pef(t) (std)');\n",
    "\n",
    "ax1 = plt.subplot(2,1,2);\n",
    "plt.axis([ 0, Dt*(M-1), np.min(pef1), np.max(pef1)] );\n",
    "plt.plot(tpef,pef2,'k-');\n",
    "plt.xlabel('time t, days');\n",
    "plt.ylabel('pef(t) (std)');\n",
    "plt.show();\n",
    "\n",
    "# plot hydrograph data and prediction error for first year\n",
    "fig2 = plt.figure(2,figsize=(8,4));\n",
    "\n",
    "Np = 365;\n",
    "ax1 = plt.subplot(2,1,1);\n",
    "plt.axis([tmin, tmin+Dt*Np, -5000, 15000]);\n",
    "plt.plot(t[0:Np,0],d[0:Np,0],'k-');\n",
    "plt.xlabel('time t, days');\n",
    "plt.ylabel('d(t)');\n",
    "\n",
    "ax1 = plt.subplot(2,1,2);\n",
    "plt.axis([tmin, tmin+Dt*Np, -5000, 15000]);\n",
    "plt.plot(t[0:Np,0],perror[0:Np,0],'k-');\n",
    "plt.xlabel('time t, days');\n",
    "plt.ylabel('e(t)');\n",
    "plt.show();        "
   ]
  },
  {
   "cell_type": "markdown",
   "metadata": {},
   "source": [
    "### 0.0 Mathematical definition of linear, time invariant, causal system (Causal Filter) [Optional]\n",
    "Definition 1: A system mapping $x$ to $y$ is causal if and only if, for any pair of input signals $ x_{1}(t)$, $x_{2}(t)$ and any choice of $t_{0}$, such that\n",
    "\n",
    "$$x_{1}(t)=x_{2}(t),\\quad \\forall \\ t<t_{0}$$\n",
    "the corresponding outputs satisfy\n",
    "\n",
    "$$y_{1}(t)=y_{2}(t),\\quad \\forall \\ t<t_{0}.$$\n",
    "\n",
    "Definition 2: Suppose $h(t)$ is the impulse response of any system $H$ described by a linear constant coefficient differential equation. The system $H$ is causal if and only if\n",
    "\n",
    "$$h(t)=0,\\quad \\forall \\ t<0$$\n",
    "otherwise it is non-causal."
   ]
  },
  {
   "cell_type": "code",
   "execution_count": null,
   "metadata": {},
   "outputs": [],
   "source": []
  }
 ],
 "metadata": {
  "kernelspec": {
   "display_name": "Python 3",
   "language": "python",
   "name": "python3"
  },
  "language_info": {
   "codemirror_mode": {
    "name": "ipython",
    "version": 3
   },
   "file_extension": ".py",
   "mimetype": "text/x-python",
   "name": "python",
   "nbconvert_exporter": "python",
   "pygments_lexer": "ipython3",
   "version": "3.6.10"
  }
 },
 "nbformat": 4,
 "nbformat_minor": 4
}
