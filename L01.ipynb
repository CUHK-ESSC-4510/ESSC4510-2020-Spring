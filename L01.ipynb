{
 "cells": [
  {
   "cell_type": "markdown",
   "metadata": {},
   "source": [
    "# L01\n",
    "\n",
    "Python 3.7 or above only!\n",
    "\n",
    "Fill in the table with data in [hko website](https://www.hko.gov.hk/en/cis/monthlyElement.htm) with mean July climate and finish the following tasks.\n",
    "\n",
    "|\t\t|\tmean temp\t|\tmean rainfall\t|\tmean pressure\t|\n",
    "|\t------\t|\t------\t|\t------\t|\t------\t|\n",
    "|\t2001\t|\t\t|\t\t|\t\t|\n",
    "|\t2002\t|\t\t|\t\t|\t\t|\n",
    "|\t2003\t|\t\t|\t\t|\t\t|\n",
    "|\t2004\t|\t\t|\t\t|\t\t|\n",
    "|\t2005\t|\t\t|\t\t|\t\t|\n",
    "|\t2006\t|\t\t|\t\t|\t\t|\n",
    "|\t2007\t|\t\t|\t\t|\t\t|\n",
    "|\t2008\t|\t\t|\t\t|\t\t|\n",
    "|\t2009\t|\t\t|\t\t|\t\t|\n",
    "|\t2010\t|\t\t|\t\t|\t\t|\n",
    "|\t2011\t|\t\t|\t\t|\t\t|\n",
    "|\t2012\t|\t\t|\t\t|\t\t|\n",
    "|\t2013\t|\t\t|\t\t|\t\t|\n",
    "|\t2014\t|\t\t|\t\t|\t\t|\n",
    "|\t2015\t|\t\t|\t\t|\t\t|\n",
    "|\t2016\t|\t\t|\t\t|\t\t|\n",
    "|\t2017\t|\t\t|\t\t|\t\t|\n",
    "|\t2018\t|\t\t|\t\t|\t\t|\n",
    "|\t2019\t|\t\t|\t\t|\t\t|\n",
    "|\t2020\t|\t\t|\t\t|\t\t|\n",
    "\n",
    "Save it as L01.csv file\n",
    "\n",
    "See the sample csv file [L01.csv](L01.csv) as an example\n",
    "\n",
    "![title](L01_csv.png)"
   ]
  },
  {
   "cell_type": "markdown",
   "metadata": {},
   "source": [
    "Import libraries here (e.g. numpy, panda...)"
   ]
  },
  {
   "cell_type": "code",
   "execution_count": null,
   "metadata": {},
   "outputs": [],
   "source": []
  },
  {
   "cell_type": "markdown",
   "metadata": {},
   "source": [
    "Read the csv file and import the data."
   ]
  },
  {
   "cell_type": "code",
   "execution_count": null,
   "metadata": {},
   "outputs": [],
   "source": []
  },
  {
   "cell_type": "markdown",
   "metadata": {},
   "source": [
    "## Ex L01.1\n",
    "\n",
    "ExL01.1 Compare the median, and the mean of the rainfall data\n"
   ]
  },
  {
   "cell_type": "code",
   "execution_count": 4,
   "metadata": {},
   "outputs": [],
   "source": []
  },
  {
   "cell_type": "markdown",
   "metadata": {},
   "source": [
    "## Ex L01.2 \n",
    "\n",
    "Compute the MAD, the IQR, and the standard deviation of the pressure data\n"
   ]
  },
  {
   "cell_type": "code",
   "execution_count": null,
   "metadata": {},
   "outputs": [],
   "source": []
  },
  {
   "cell_type": "markdown",
   "metadata": {},
   "source": [
    "## Ex L01.3 a\n",
    "\n",
    "Draw the empirical cumulative frequency distribution for the pressure data. \n"
   ]
  },
  {
   "cell_type": "code",
   "execution_count": null,
   "metadata": {},
   "outputs": [],
   "source": []
  },
  {
   "cell_type": "markdown",
   "metadata": {},
   "source": [
    "## Ex L01.3 b\n",
    "\n",
    "Compare it with a histogram of the same data.\n"
   ]
  },
  {
   "cell_type": "code",
   "execution_count": null,
   "metadata": {},
   "outputs": [],
   "source": []
  }
 ],
 "metadata": {
  "kernelspec": {
   "display_name": "Python 3",
   "language": "python",
   "name": "python3"
  },
  "language_info": {
   "codemirror_mode": {
    "name": "ipython",
    "version": 3
   },
   "file_extension": ".py",
   "mimetype": "text/x-python",
   "name": "python",
   "nbconvert_exporter": "python",
   "pygments_lexer": "ipython3",
   "version": "3.8.3"
  }
 },
 "nbformat": 4,
 "nbformat_minor": 1
}
