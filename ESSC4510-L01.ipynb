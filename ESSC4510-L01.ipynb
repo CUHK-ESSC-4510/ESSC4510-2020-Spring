{
 "cells": [
  {
   "cell_type": "markdown",
   "metadata": {},
   "source": [
    "# ESSC4510-L01\n",
    "\n",
    "Fill in the table with data in hko website with mean July climate and finish the following tasks.\n",
    "https://www.hko.gov.hk/en/cis/monthlyElement.htm\n",
    "\n",
    "|\t\t|\tmean temp\t|\tmean rainfall\t|\tmean pressure\t|\n",
    "|\t------\t|\t------\t|\t------\t|\t------\t|\n",
    "|\t2001\t|\t\t|\t\t|\t\t|\n",
    "|\t2002\t|\t\t|\t\t|\t\t|\n",
    "|\t2003\t|\t\t|\t\t|\t\t|\n",
    "|\t2004\t|\t\t|\t\t|\t\t|\n",
    "|\t2005\t|\t\t|\t\t|\t\t|\n",
    "|\t2006\t|\t\t|\t\t|\t\t|\n",
    "|\t2007\t|\t\t|\t\t|\t\t|\n",
    "|\t2008\t|\t\t|\t\t|\t\t|\n",
    "|\t2009\t|\t\t|\t\t|\t\t|\n",
    "|\t2010\t|\t\t|\t\t|\t\t|\n",
    "|\t2011\t|\t\t|\t\t|\t\t|\n",
    "|\t2012\t|\t\t|\t\t|\t\t|\n",
    "|\t2013\t|\t\t|\t\t|\t\t|\n",
    "|\t2014\t|\t\t|\t\t|\t\t|\n",
    "|\t2015\t|\t\t|\t\t|\t\t|\n",
    "|\t2016\t|\t\t|\t\t|\t\t|\n",
    "|\t2017\t|\t\t|\t\t|\t\t|\n",
    "|\t2018\t|\t\t|\t\t|\t\t|\n",
    "|\t2019\t|\t\t|\t\t|\t\t|\n",
    "|\t2020\t|\t\t|\t\t|\t\t|\n",
    "\n",
    "Python 3.7 or above only\n"
   ]
  },
  {
   "cell_type": "markdown",
   "metadata": {},
   "source": [
    "ExL01.1 Compare the median, and the mean of the rainfall data"
   ]
  },
  {
   "cell_type": "code",
   "execution_count": null,
   "metadata": {},
   "outputs": [],
   "source": []
  },
  {
   "cell_type": "markdown",
   "metadata": {},
   "source": [
    "ExL01.2 Compute the MAD, the IQR, and the standard deviation of the pressure data"
   ]
  },
  {
   "cell_type": "code",
   "execution_count": null,
   "metadata": {},
   "outputs": [],
   "source": []
  },
  {
   "cell_type": "markdown",
   "metadata": {},
   "source": [
    "ExL01.3 Draw the empirical cumulative frequency distribution for the pressure data. "
   ]
  },
  {
   "cell_type": "code",
   "execution_count": null,
   "metadata": {},
   "outputs": [],
   "source": []
  },
  {
   "cell_type": "markdown",
   "metadata": {},
   "source": [
    "Compare it with a histogram of the same data."
   ]
  },
  {
   "cell_type": "code",
   "execution_count": null,
   "metadata": {},
   "outputs": [],
   "source": []
  }
 ],
 "metadata": {
  "kernelspec": {
   "display_name": "Python 3",
   "language": "python",
   "name": "python3"
  },
  "language_info": {
   "codemirror_mode": {
    "name": "ipython",
    "version": 3
   },
   "file_extension": ".py",
   "mimetype": "text/x-python",
   "name": "python",
   "nbconvert_exporter": "python",
   "pygments_lexer": "ipython3",
   "version": "3.8.3"
  }
 },
 "nbformat": 4,
 "nbformat_minor": 4
}
