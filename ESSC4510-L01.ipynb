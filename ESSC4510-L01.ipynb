{
 "cells": [
  {
   "cell_type": "markdown",
   "metadata": {},
   "source": [
    "# ESSC4510-L01\n",
    "\n",
    "Fill in the table with data in hko website with mean July climate and finish the following tasks.\n",
    "https://www.hko.gov.hk/en/cis/monthlyElement.htm\n",
    "\n",
    "|\t\t|\tmean temp\t|\tmean rainfall\t|\tmean pressure\t|\n",
    "|\t------\t|\t------\t|\t------\t|\t------\t|\n",
    "|\t2001\t|\t\t|\t\t|\t\t|\n",
    "|\t2002\t|\t\t|\t\t|\t\t|\n",
    "|\t2003\t|\t\t|\t\t|\t\t|\n",
    "|\t2004\t|\t\t|\t\t|\t\t|\n",
    "|\t2005\t|\t\t|\t\t|\t\t|\n",
    "|\t2006\t|\t\t|\t\t|\t\t|\n",
    "|\t2007\t|\t\t|\t\t|\t\t|\n",
    "|\t2008\t|\t\t|\t\t|\t\t|\n",
    "|\t2009\t|\t\t|\t\t|\t\t|\n",
    "|\t2010\t|\t\t|\t\t|\t\t|\n",
    "|\t2011\t|\t\t|\t\t|\t\t|\n",
    "|\t2012\t|\t\t|\t\t|\t\t|\n",
    "|\t2013\t|\t\t|\t\t|\t\t|\n",
    "|\t2014\t|\t\t|\t\t|\t\t|\n",
    "|\t2015\t|\t\t|\t\t|\t\t|\n",
    "|\t2016\t|\t\t|\t\t|\t\t|\n",
    "|\t2017\t|\t\t|\t\t|\t\t|\n",
    "|\t2018\t|\t\t|\t\t|\t\t|\n",
    "|\t2019\t|\t\t|\t\t|\t\t|\n",
    "|\t2020\t|\t\t|\t\t|\t\t|\n",
    "\n",
    "*Python 3.7 or above only\n"
   ]
  }
}
