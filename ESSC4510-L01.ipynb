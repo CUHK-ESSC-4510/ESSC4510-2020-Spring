{
 "cells": [
  {
   "cell_type": "markdown",
   "metadata": {},
   "source": [
    "Fill in the table with data in hko website with mean July climate and finish the following tasks.\n",
    "https://www.hko.gov.hk/en/cis/monthlyElement.htm\n",
    "\n",
    "ExL01.1 Compare the median, and the mean of the rainfall data\n",
    "\n",
    "ExL01.2 Compute the MAD, the IQR, and the standard deviation of the pressure data\n",
    "\n",
    "ExL01.3 Draw the empirical cumulative frequency distribution for the pressure data. Compare it with a histogram of the same data.\n",
    "\n",
    "Python 3.7 or above only\n"
   ]
  }
 ],
 "metadata": {
  "kernelspec": {
   "display_name": "Python 3",
   "language": "python",
   "name": "python3"
  },
  "language_info": {
   "codemirror_mode": {
    "name": "ipython",
    "version": 3
   },
   "file_extension": ".py",
   "mimetype": "text/x-python",
   "name": "python",
   "nbconvert_exporter": "python",
   "pygments_lexer": "ipython3",
   "version": "3.8.3"
  }
 },
 "nbformat": 4,
 "nbformat_minor": 4
}
