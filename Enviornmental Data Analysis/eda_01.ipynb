{
  "nbformat": 4,
  "nbformat_minor": 0,
  "metadata": {
    "kernelspec": {
      "display_name": "Python 3",
      "language": "python",
      "name": "python3"
    },
    "language_info": {
      "codemirror_mode": {
        "name": "ipython",
        "version": 3
      },
      "file_extension": ".py",
      "mimetype": "text/x-python",
      "name": "python",
      "nbconvert_exporter": "python",
      "pygments_lexer": "ipython3",
      "version": "3.8.5"
    },
    "colab": {
      "name": "eda_01.ipynb",
      "provenance": [],
      "toc_visible": true,
      "include_colab_link": true
    }
  },
  "cells": [
    {
      "cell_type": "markdown",
      "metadata": {
        "id": "view-in-github",
        "colab_type": "text"
      },
      "source": [
        "<a href=\"https://colab.research.google.com/github/zijinping/ESSC5602/blob/main/ESSC5602/Archive/eda_python/eda_01.ipynb\" target=\"_parent\"><img src=\"https://colab.research.google.com/assets/colab-badge.svg\" alt=\"Open In Colab\"/></a>"
      ]
    },
    {
      "cell_type": "markdown",
      "metadata": {
        "id": "UsRbcews9LzX"
      },
      "source": [
        "# ESSC4510 Statistical and data analysis for Earth System Science\n",
        "\n",
        "Welcome to the environmental data analysis section. \n",
        "\n",
        "This tutorial provides essential sample codes to manuver python coding on basic matrix operations, file i/o and simple plotting.\n",
        "\n",
        "Shall you have any enquires, please feel free to contact us.\n",
        "\n",
        "\n",
        "Edited by Jeremy Wong @2020-02"
      ]
    },
    {
      "cell_type": "code",
      "metadata": {
        "id": "-JqY4MIB9EHi"
      },
      "source": [
        "# eda_01_01 clear all variables and import vatious modules\n",
        "%reset -f\n",
        "import os\n",
        "from datetime import date\n",
        "from math import exp, pi, sin, sqrt\n",
        "import numpy as np\n",
        "import scipy.linalg as la\n",
        "from matplotlib import pyplot as plt"
      ],
      "execution_count": 1,
      "outputs": []
    },
    {
      "cell_type": "code",
      "metadata": {
        "id": "VMCFkE6N9EHy",
        "outputId": "84a38333-f8bd-40e3-d029-f0785e58295d"
      },
      "source": [
        "# eda_01_02 print the date\n",
        "thedate = date.today();\n",
        "print(thedate);"
      ],
      "execution_count": null,
      "outputs": [
        {
          "output_type": "stream",
          "text": [
            "2021-01-25\n"
          ],
          "name": "stdout"
        }
      ]
    },
    {
      "cell_type": "markdown",
      "metadata": {
        "id": "x28gfrPi-jmw"
      },
      "source": [
        "## 1.1 Directory Maneuver"
      ]
    },
    {
      "cell_type": "code",
      "metadata": {
        "colab": {
          "base_uri": "https://localhost:8080/"
        },
        "id": "1Bo5OEva9EH1",
        "outputId": "b14df00c-78c1-4973-9a6b-232a421a12f0"
      },
      "source": [
        "# eda_01_03 print the current direrory\n",
        "thisdir=os.getcwd();\n",
        "print(thisdir);"
      ],
      "execution_count": 2,
      "outputs": [
        {
          "output_type": "stream",
          "text": [
            "/content\n"
          ],
          "name": "stdout"
        }
      ]
    },
    {
      "cell_type": "markdown",
      "metadata": {
        "id": "a4ulzU4UBbXR"
      },
      "source": [
        "Try to edit the following code to change to your desire directory."
      ]
    },
    {
      "cell_type": "code",
      "metadata": {
        "collapsed": true,
        "id": "28CeWoFY9EH2",
        "outputId": "5c82935b-fcd3-4973-c1ce-3c533fd529c9"
      },
      "source": [
        "# eda_01_04\n",
        "\n",
        "# changeto a folder\n",
        "#os.chdir(\"c:/bill/edapy\");\n",
        "\n",
        "# print current folder\n",
        "thisdir=os.getcwd();\n",
        "print(thisdir);"
      ],
      "execution_count": null,
      "outputs": [
        {
          "output_type": "error",
          "ename": "FileNotFoundError",
          "evalue": "[Errno 2] No such file or directory: 'c:/bill/edapy'",
          "traceback": [
            "\u001b[0;31m---------------------------------------------------------------------------\u001b[0m",
            "\u001b[0;31mFileNotFoundError\u001b[0m                         Traceback (most recent call last)",
            "\u001b[0;32m<ipython-input-4-5d124f291ad6>\u001b[0m in \u001b[0;36m<module>\u001b[0;34m\u001b[0m\n\u001b[1;32m      2\u001b[0m \u001b[0;34m\u001b[0m\u001b[0m\n\u001b[1;32m      3\u001b[0m \u001b[0;31m# changeto a folder\u001b[0m\u001b[0;34m\u001b[0m\u001b[0;34m\u001b[0m\u001b[0;34m\u001b[0m\u001b[0m\n\u001b[0;32m----> 4\u001b[0;31m \u001b[0mos\u001b[0m\u001b[0;34m.\u001b[0m\u001b[0mchdir\u001b[0m\u001b[0;34m(\u001b[0m\u001b[0;34m\"c:/bill/edapy\"\u001b[0m\u001b[0;34m)\u001b[0m\u001b[0;34m;\u001b[0m\u001b[0;34m\u001b[0m\u001b[0;34m\u001b[0m\u001b[0m\n\u001b[0m\u001b[1;32m      5\u001b[0m \u001b[0;34m\u001b[0m\u001b[0m\n\u001b[1;32m      6\u001b[0m \u001b[0;31m# print current folder\u001b[0m\u001b[0;34m\u001b[0m\u001b[0;34m\u001b[0m\u001b[0;34m\u001b[0m\u001b[0m\n",
            "\u001b[0;31mFileNotFoundError\u001b[0m: [Errno 2] No such file or directory: 'c:/bill/edapy'"
          ]
        }
      ]
    },
    {
      "cell_type": "code",
      "metadata": {
        "id": "ss8Mn4Tv9EH3",
        "outputId": "e527d06f-56ff-4982-cb5b-f8924927dd5d"
      },
      "source": [
        "# eda_01_05 direrory with spaces is no problem\n",
        "\n",
        "# change to directory with space in name\n",
        "os.chdir(\"c:/bill/edapy/my stuff\");\n",
        "thisdir=os.getcwd();\n",
        "print(thisdir);\n",
        "\n",
        "# change to directoty level up\n",
        "os.chdir(\"..\");\n",
        "thisdir=os.getcwd();\n",
        "print(thisdir);"
      ],
      "execution_count": null,
      "outputs": [
        {
          "output_type": "stream",
          "text": [
            "c:\\bill\\edapy\\my stuff\n",
            "c:\\bill\\edapy\n"
          ],
          "name": "stdout"
        }
      ]
    },
    {
      "cell_type": "markdown",
      "metadata": {
        "id": "nQmV3IaoBo6w"
      },
      "source": [
        "Try move back to the origional directory. And list out all the provided files."
      ]
    },
    {
      "cell_type": "code",
      "metadata": {
        "id": "gvh2RhbN9EIB",
        "outputId": "1cdc2cfc-2846-4c50-90e9-6e16f9b8cd24"
      },
      "source": [
        "# eda_01_06 list files in current directory \n",
        "mydir=os.listdir();\n",
        "print(mydir);"
      ],
      "execution_count": null,
      "outputs": [
        {
          "output_type": "stream",
          "text": [
            "['.ipynb_checkpoints', 'billnotebook1.ipynb', 'brf_temp.txt', 'earthquake_magnitudes.txt', 'eda04.ipynb', 'eda_01.ipynb', 'eda_01Copy.ipynb', 'eda_02.ipynb', 'eda_03.ipynb', 'eda_05.ipynb', 'eda_06.ipynb', 'eda_07-Copy1.ipynb', 'eda_07.ipynb', 'eda_draw.py', 'hello.py', 'linedata.txt', 'linedata01.txt', 'linedata02.txt', 'my stuff', 'neuse.txt', 'neuse_metric.txt', 'new_pressure.txt', 'noise.txt', 'noise2.txt', 'precip_discharge_data.txt', 'precip_discharge_data_info.txt', 'pressure.txt', 'pressure2.txt', 'python_notes.docx', 'rocks.txt', 'test.py', 'thedate.py', '__pycache__']\n"
          ],
          "name": "stdout"
        }
      ]
    },
    {
      "cell_type": "markdown",
      "metadata": {
        "id": "PmS-YAFh-qGr"
      },
      "source": [
        "## 1.2 Arithmetric"
      ]
    },
    {
      "cell_type": "code",
      "metadata": {
        "id": "QeuMhWyA9EIB",
        "outputId": "a5afec0a-3690-4cca-db1b-7b03393907b2"
      },
      "source": [
        "# eda_01_07 define variables and do variable arithmetic\n",
        "a = 3.5;\n",
        "b = 4.1;\n",
        "c = a+b;\n",
        "print(c);"
      ],
      "execution_count": null,
      "outputs": [
        {
          "output_type": "stream",
          "text": [
            "7.6\n"
          ],
          "name": "stdout"
        }
      ]
    },
    {
      "cell_type": "code",
      "metadata": {
        "id": "f-aYD18N9EIC",
        "outputId": "16dab0b5-6dcf-4ce3-ca14-07d8d110ce53"
      },
      "source": [
        "# eda_01_08 algebra with square root and power\n",
        "a=3;\n",
        "b = 4;\n",
        "c=sqrt(a**2 + b**2);\n",
        "print(c);"
      ],
      "execution_count": null,
      "outputs": [
        {
          "output_type": "stream",
          "text": [
            "5.0\n"
          ],
          "name": "stdout"
        }
      ]
    },
    {
      "cell_type": "code",
      "metadata": {
        "id": "Wx79sMWU9EIG",
        "outputId": "312309de-7b96-4335-a4ca-d4c05cdb1982"
      },
      "source": [
        "# eda_01_09 algebra with sine\n",
        "n = 2; x = 3; x0 = 1; L = 5;\n",
        "c = sin(n*pi*(x-x0)/L);\n",
        "print(c);"
      ],
      "execution_count": null,
      "outputs": [
        {
          "output_type": "stream",
          "text": [
            "0.5877852522924732\n"
          ],
          "name": "stdout"
        }
      ]
    },
    {
      "cell_type": "markdown",
      "metadata": {
        "id": "EygDfxeD-w3a"
      },
      "source": [
        "## 1.3 Vector and matrix operation \n"
      ]
    },
    {
      "cell_type": "markdown",
      "metadata": {
        "id": "9QRPdgSfDN-C"
      },
      "source": [
        "### 1.3.1 Declare Vector, Matrix \n",
        "Column vector\n",
        "$$ c = \\begin{bmatrix}1 \\\\ 2 \\\\3 \\\\ 4\\end{bmatrix}$$\n",
        "Row vector\n",
        "$$ r = \\begin{bmatrix}1 & 2 &3 & 4\\end{bmatrix}$$\n",
        "Square matrix\n",
        "$$ M = \\begin{bmatrix}1 & 2 &3 \\\\ 4& 5 &6 \\\\ 7&8&9\\end{bmatrix}$$"
      ]
    },
    {
      "cell_type": "code",
      "metadata": {
        "collapsed": true,
        "id": "9EmS3zQq9EII",
        "outputId": "e445c795-80c9-422e-b828-810f438b2a46"
      },
      "source": [
        "# eda_01_10\n",
        "# column vector c\n",
        "c = np.zeros((4,1));\n",
        "c[:,0]=[1,2,3,4];\n",
        "print('c\\n',c);\n",
        "\n",
        "# row vector r\n",
        "r = np.zeros((1,4));\n",
        "r[0,:]=[1,2,3,4];\n",
        "print('r\\n',r);\n",
        "\n",
        "# square matrix M\n",
        "M = np.zeros((3,3));\n",
        "M = np.array( [[1, 2, 3],\n",
        "               [4, 5, 6],\n",
        "               [7, 8, 9]] );\n",
        "print(\"M\\n\",M);"
      ],
      "execution_count": null,
      "outputs": [
        {
          "output_type": "stream",
          "text": [
            "c\n",
            " [[1.]\n",
            " [2.]\n",
            " [3.]\n",
            " [4.]]\n",
            "r\n",
            " [[1. 2. 3. 4.]]\n",
            "M\n",
            " [[1 2 3]\n",
            " [4 5 6]\n",
            " [7 8 9]]\n"
          ],
          "name": "stdout"
        }
      ]
    },
    {
      "cell_type": "markdown",
      "metadata": {
        "id": "mfMuO2nBDZVB"
      },
      "source": [
        "### 1.3.2 Matrix arithmetrc\n",
        "\n",
        "Transpose\n",
        "\n",
        "```\n",
        "# Transpose of a matrix\n",
        "a.T\n",
        "\n",
        "# Matrix inverse\n",
        "np.linalg.inv()\n",
        "\n",
        "# Matrix product\n",
        "np.matmul()\n",
        "\n",
        "# Element wise multipication\n",
        "np.multiply()\n",
        "```\n",
        "\n"
      ]
    },
    {
      "cell_type": "code",
      "metadata": {
        "collapsed": true,
        "id": "9XpcTJx-9EIJ",
        "outputId": "a0a850b4-eaf4-44b0-f881-e350645ea765"
      },
      "source": [
        "# eda_01_11 basic matrix arithmetic\n",
        "\n",
        "# column vector a\n",
        "a = np.zeros((3,1));\n",
        "a[:,0]=[1,3,5];\n",
        "print(\"a\\n\",a);\n",
        "\n",
        "# column vector b\n",
        "b = np.zeros((3,1));\n",
        "b[:,0]=[2,4,6];\n",
        "print(\"b\\n\",b);\n",
        "\n",
        "# square matrix M\n",
        "M = np.zeros((3,3));\n",
        "M = np.array( [[1, 0, 2],\n",
        "               [0, 1, 0],\n",
        "               [2, 0, 1]] );\n",
        "print(\"M\\n\",M);\n",
        "\n",
        "# square matrix N\n",
        "N = np.zeros((3,3));\n",
        "N = np.array( [[1, 0, -1],\n",
        "               [0, 2, 0],\n",
        "               [-1, 0, 3]] );\n",
        "print(\"N\\n\",N);\n",
        "\n",
        "# x = a-transpose time b\n",
        "s = np.matmul(a.T,b);\n",
        "print(\"s\\n\",s);\n",
        "\n",
        "# T = a times b-transpose\n",
        "T = np.matmul(a,b.T);\n",
        "print(\"T\\n\",T);\n",
        "\n",
        "# c = M times a\n",
        "c = np.matmul(M,a);\n",
        "print(\"c\\n\",c);\n",
        "\n",
        "# P = M times N\n",
        "P = np.matmul(M,N);\n",
        "print(\"P\\n\",P);\n",
        "\n",
        "# d = element-wise multiply of a and b\n",
        "d = np.multiply(a,b);\n",
        "print(\"d\\n\",d);"
      ],
      "execution_count": null,
      "outputs": [
        {
          "output_type": "stream",
          "text": [
            "a\n",
            " [[1.]\n",
            " [3.]\n",
            " [5.]]\n",
            "b\n",
            " [[2.]\n",
            " [4.]\n",
            " [6.]]\n",
            "M\n",
            " [[1 0 2]\n",
            " [0 1 0]\n",
            " [2 0 1]]\n",
            "N\n",
            " [[ 1  0 -1]\n",
            " [ 0  2  0]\n",
            " [-1  0  3]]\n",
            "s\n",
            " [[44.]]\n",
            "T\n",
            " [[ 2.  4.  6.]\n",
            " [ 6. 12. 18.]\n",
            " [10. 20. 30.]]\n",
            "c\n",
            " [[11.]\n",
            " [ 3.]\n",
            " [ 7.]]\n",
            "P\n",
            " [[-1  0  5]\n",
            " [ 0  2  0]\n",
            " [ 1  0  1]]\n",
            "d\n",
            " [[ 2.]\n",
            " [12.]\n",
            " [30.]]\n"
          ],
          "name": "stdout"
        }
      ]
    },
    {
      "cell_type": "code",
      "metadata": {
        "collapsed": true,
        "id": "6zpkKZr99EIL",
        "outputId": "c90f1820-1977-4ec5-cb40-a7b882e47015"
      },
      "source": [
        "# eda_01_12 accessing elements of a matrix\n",
        "\n",
        "# column vector a\n",
        "a = np.zeros((3,1));\n",
        "a[:,0]=[1,2,3];\n",
        "print(\"a\\n\",a);\n",
        "\n",
        "# square matrix M\n",
        "M = np.zeros((3,3));\n",
        "M = np.array( [[1, 2, 3],\n",
        "               [4, 5, 6],\n",
        "               [7, 8, 9]] );\n",
        "print(\"M\\n\",M);\n",
        "\n",
        "# one element of a column vector\n",
        "s = a[1,0];\n",
        "print(\"s\\n\",s);\n",
        "\n",
        "# one element of a matrix\n",
        "t = M[1,2];\n",
        "print(\"t\\n\",t);\n",
        "\n",
        "# column vector = one column of a matrix\n",
        "b = np.zeros((3,1));\n",
        "b[:,0] = np.copy( M[:,1] );\n",
        "print(\"b\\n\",b);\n",
        "\n",
        "# column vector = one row of a matrix\n",
        "c = np.zeros((3,1));\n",
        "c[:,0] = np.copy( M[1,:].T );\n",
        "print(\"c\\n\",c);\n",
        "\n",
        "# small matrix = rectangular block of larger matric\n",
        "# note that end of range is one larger than you want\n",
        "T = np.copy( M[1:2+1,1:2+1] );\n",
        "print(\"T\\n\",T);\n",
        "\n",
        "# the purpose for the copy is to convert a view of a matrix\n",
        "# into a separate matrix.  Else changeing the original matrix\n",
        "# will change the \n",
        "X =  M[1:2+1,1:2+1];\n",
        "print(\"X\\n\",X);\n",
        "M[1,1]=7;\n",
        "print(\"X\\n\",X);\n",
        "print(\"T\\n\",T);\n"
      ],
      "execution_count": null,
      "outputs": [
        {
          "output_type": "stream",
          "text": [
            "a\n",
            " [[1.]\n",
            " [2.]\n",
            " [3.]]\n",
            "M\n",
            " [[1 2 3]\n",
            " [4 5 6]\n",
            " [7 8 9]]\n",
            "s\n",
            " 2.0\n",
            "t\n",
            " 6\n",
            "b\n",
            " [[2.]\n",
            " [5.]\n",
            " [8.]]\n",
            "c\n",
            " [[4.]\n",
            " [5.]\n",
            " [6.]]\n",
            "T\n",
            " [[5 6]\n",
            " [8 9]]\n",
            "X\n",
            " [[5 6]\n",
            " [8 9]]\n",
            "X\n",
            " [[7 6]\n",
            " [8 9]]\n",
            "T\n",
            " [[5 6]\n",
            " [8 9]]\n"
          ],
          "name": "stdout"
        }
      ]
    },
    {
      "cell_type": "code",
      "metadata": {
        "id": "RDFYM4y59EIL",
        "outputId": "d2fde73e-8e40-40e6-b0c4-bd82b0761d4a"
      },
      "source": [
        "# eda_01_13 basic matrix arithmetic\n",
        "\n",
        "# column vector t of N evenly-spaced points beterrn tmin and tmax\n",
        "N=21;\n",
        "tmin = 0;\n",
        "tmax = 1;\n",
        "Dt = (tmax-tmin)/(N-1);\n",
        "t = np.zeros((N,1));\n",
        "t[:,0] = np.linspace( tmin, tmax, N );\n",
        "\n",
        "# expemplary function\n",
        "x=np.sin(pi*t);\n",
        "\n",
        "# approximate slope; note one point shorter then x\n",
        "sapprox = np.zeros((N-1,1));\n",
        "sapprox = (x[1:N+1]-x[0:N-2+1])/Dt;\n",
        "\n",
        "# approximate integral; same length as x\n",
        "aaprox = np.zeros((N-1,1));\n",
        "aaprox = Dt*np.cumsum(x);\n",
        "\n",
        "# integral over all t\n",
        "atotal = Dt*np.sum(x);\n",
        "print('atotal\\n', aaprox[N-1] );\n",
        "print('atotal\\n', atotal );"
      ],
      "execution_count": null,
      "outputs": [
        {
          "output_type": "stream",
          "text": [
            "20 20\n",
            "atotal\n",
            " 0.6353102368087353\n",
            "atotal\n",
            " 0.6353102368087353\n"
          ],
          "name": "stdout"
        }
      ]
    },
    {
      "cell_type": "code",
      "metadata": {
        "id": "4tobwIfq9EIM",
        "outputId": "cc5d52d9-46a0-40bf-e73e-4ba15862d4b5"
      },
      "source": [
        "# eda_01_14\n",
        "\n",
        "# square matric M\n",
        "M = np.zeros((3,3));\n",
        "M = np.array( [[1, 2, 3],\n",
        "               [4, 5, 6],\n",
        "               [7, 8, 9]] );\n",
        "print(\"M\\n\",M);\n",
        "\n",
        "# for loop that extracts the main diagonal of a matrix\n",
        "a = np.zeros((3,1));\n",
        "for i in range(3):\n",
        "    a[i,0]=M[i,i];\n",
        "print(\"a\\n\",a)\n",
        "\n",
        "# column vector of length 12\n",
        "N = 12\n",
        "a = np.zeros((N,1));\n",
        "a[:,0] = [1, 2, 1, 4, 3, 2, 6, 4, 9, 2, 1, 4];\n",
        "\n",
        "# for loop that \"clips\" a vector\n",
        "b = np.zeros((N,1));\n",
        "for i in range(N):\n",
        "    if a[i,0] >= 6:\n",
        "        b[i,0]=6;\n",
        "    else:\n",
        "        b[i,0]=a[i,0];\n",
        "\n",
        "# concatenate vectors a and b for aeshetic printing\n",
        "c = np.concatenate((a,b),axis=1);\n",
        "print(\"c\\n\",c);"
      ],
      "execution_count": null,
      "outputs": [
        {
          "output_type": "stream",
          "text": [
            "M\n",
            " [[1 2 3]\n",
            " [4 5 6]\n",
            " [7 8 9]]\n",
            "a\n",
            " [[1.]\n",
            " [5.]\n",
            " [9.]]\n",
            "c\n",
            " [[1. 1.]\n",
            " [2. 2.]\n",
            " [1. 1.]\n",
            " [4. 4.]\n",
            " [3. 3.]\n",
            " [2. 2.]\n",
            " [6. 6.]\n",
            " [4. 4.]\n",
            " [9. 6.]\n",
            " [2. 2.]\n",
            " [1. 1.]\n",
            " [4. 4.]]\n"
          ],
          "name": "stdout"
        }
      ]
    },
    {
      "cell_type": "code",
      "metadata": {
        "scrolled": true,
        "id": "Rdn-rJ7q9EIN",
        "outputId": "44e1b1e2-1d47-4d2c-b3fb-71ec2ee34465"
      },
      "source": [
        "# eda_01_15 alternatives to for loops\n",
        "\n",
        "# square matric M\n",
        "M = np.zeros((3,3));\n",
        "M = np.array( [[1, 2, 3],\n",
        "               [4, 5, 6],\n",
        "               [7, 8, 9]] );\n",
        "print(\"M\\n\",M);\n",
        "\n",
        "# extract diagonal of matcix into a vector\n",
        "a = np.zeros((3,1));\n",
        "a[:,0] = np.diagonal(M)\n",
        "print(\"a\\n\",a);\n",
        "\n",
        "# N is M flipped upside down\n",
        "N = np.zeros((3,3));\n",
        "N = np.flipud(M);\n",
        "print(\"N\\n\",N);\n",
        "\n",
        "# column vector a of lenth 12\n",
        "a = np.zeros((12,1));\n",
        "a[:,0] = [1, 2, 1, 4, 3, 2, 6, 4, 9, 2, 1, 4];\n",
        "print(\"a\\n\",a);\n",
        "\n",
        "# alternative method #1 of cliping a vector\n",
        "b = np.zeros((12,1));\n",
        "b = np.multiply(a, a<6) + np.multiply(6, a>=6);\n",
        "print(\"b\\n\",b);\n",
        "\n",
        "# alternative method #2 f cliping a vector\n",
        "b3=a;\n",
        "b3[a>=6]=6;\n",
        "print(\"b\\n\",b3);\n",
        "\n",
        "# alternative method #3 f cliping a vector\n",
        "k = np.where(a>=6);\n",
        "b4=a;\n",
        "b4[k]=6;\n",
        "print(\"b\\n\",b4);"
      ],
      "execution_count": null,
      "outputs": [
        {
          "output_type": "stream",
          "text": [
            "M\n",
            " [[1 2 3]\n",
            " [4 5 6]\n",
            " [7 8 9]]\n",
            "a\n",
            " [[1.]\n",
            " [5.]\n",
            " [9.]]\n",
            "N\n",
            " [[7 8 9]\n",
            " [4 5 6]\n",
            " [1 2 3]]\n",
            "a\n",
            " [[1.]\n",
            " [2.]\n",
            " [1.]\n",
            " [4.]\n",
            " [3.]\n",
            " [2.]\n",
            " [6.]\n",
            " [4.]\n",
            " [9.]\n",
            " [2.]\n",
            " [1.]\n",
            " [4.]]\n",
            "b\n",
            " [[1.]\n",
            " [2.]\n",
            " [1.]\n",
            " [4.]\n",
            " [3.]\n",
            " [2.]\n",
            " [6.]\n",
            " [4.]\n",
            " [6.]\n",
            " [2.]\n",
            " [1.]\n",
            " [4.]]\n",
            "b\n",
            " [[1.]\n",
            " [2.]\n",
            " [1.]\n",
            " [4.]\n",
            " [3.]\n",
            " [2.]\n",
            " [6.]\n",
            " [4.]\n",
            " [6.]\n",
            " [2.]\n",
            " [1.]\n",
            " [4.]]\n",
            "b\n",
            " [[1.]\n",
            " [2.]\n",
            " [1.]\n",
            " [4.]\n",
            " [3.]\n",
            " [2.]\n",
            " [6.]\n",
            " [4.]\n",
            " [6.]\n",
            " [2.]\n",
            " [1.]\n",
            " [4.]]\n"
          ],
          "name": "stdout"
        }
      ]
    },
    {
      "cell_type": "code",
      "metadata": {
        "collapsed": true,
        "id": "qXheJEnQ9EIN",
        "outputId": "0a3682bf-c498-4ebe-b1f4-80199d2a970b"
      },
      "source": [
        "# eda_01_16 matrix inverse\n",
        "\n",
        "# square matrix A\n",
        "A = np.zeros((3,3));\n",
        "A = np.array( [[1, 0.5, 0],\n",
        "               [0.5, 5, 0],\n",
        "               [0, 0, 9]] );\n",
        "\n",
        "# B = inverse of A\n",
        "B = np.linalg.inv(A);\n",
        "\n",
        "# I = A times B\n",
        "I = np.matmul(A,B);\n",
        "print(\"I\\n\",I);\n",
        "\n",
        "# column vercor a\n",
        "a = np.zeros((3,1));\n",
        "a[:,0] = [1, 2, 3];\n",
        "print(\"a\\n\",a);\n",
        "\n",
        "# v = A times a\n",
        "b = np.matmul(A,a);\n",
        "\n",
        "# a = B times b\n",
        "a2 = np.matmul(B,b);\n",
        "print(\"a2\\n\",a2);\n",
        "\n",
        "# alternative to a = A-inverse times b\n",
        "a3 = np.linalg.solve(A,b);\n",
        "print(\"a3\\n\",a3);"
      ],
      "execution_count": null,
      "outputs": [
        {
          "output_type": "stream",
          "text": [
            "I\n",
            " [[1. 0. 0.]\n",
            " [0. 1. 0.]\n",
            " [0. 0. 1.]]\n",
            "a\n",
            " [[1.]\n",
            " [2.]\n",
            " [3.]]\n",
            "a2\n",
            " [[1.]\n",
            " [2.]\n",
            " [3.]]\n",
            "a3\n",
            " [[1.]\n",
            " [2.]\n",
            " [3.]]\n"
          ],
          "name": "stdout"
        }
      ]
    },
    {
      "cell_type": "markdown",
      "metadata": {
        "id": "2js3-RXs_rUO"
      },
      "source": [
        "## 1.4 File i/o and simple plot"
      ]
    },
    {
      "cell_type": "code",
      "metadata": {
        "scrolled": true,
        "id": "fsZ7ZFcL9EIP",
        "outputId": "a7b5b9c3-6d21-401c-ecc8-2fce0a2be9b1"
      },
      "source": [
        "# eda_01_17 load text file and make very-quick plot\n",
        "\n",
        "# load rectangular, tab-separated table of numbers into a N by M matrix D\n",
        "D = np.genfromtxt('neuse.txt', delimiter='\\t')\n",
        "\n",
        "t = D[:,0];  # time in column 1\n",
        "d = D[:,1];  # discharge in column 2\n",
        "\n",
        "# plot the data\n",
        "fig1 = plt.figure(1,figsize=(5,5));\n",
        "ax1 = plt.subplot(1, 1, 1);\n",
        "plt.plot(t,d,'k-');  # plor d(t) with black line\n",
        "plt.show(); # display plot"
      ],
      "execution_count": null,
      "outputs": [
        {
          "output_type": "display_data",
          "data": {
            "image/png": "[encoded data removed]",
            "text/plain": [
              "<Figure size 360x360 with 1 Axes>"
            ]
          },
          "metadata": {
            "tags": [],
            "needs_background": "light"
          }
        }
      ]
    },
    {
      "cell_type": "code",
      "metadata": {
        "id": "qUKtZReS9EIQ",
        "outputId": "cc5a5203-90f8-40b3-b7c8-116dfddddea2"
      },
      "source": [
        "# eda_01_18 load text file and mke nicer plot\n",
        "\n",
        "# load data from text fole\n",
        "D = np.genfromtxt('neuse.txt', delimiter='\\t')\n",
        "[N, M]=D.shape;\n",
        "\n",
        "# time in column 1, discharge in colun 2\n",
        "t = D[:,0];\n",
        "d = D[:,1];\n",
        "\n",
        "# nicer plot\n",
        "fig1 = plt.figure(1,figsize=(8,4));\n",
        "ax1 = plt.subplot(1, 1, 1);\n",
        "plt.axis([0, 4500, 0, 1.1*np.max(d)])\n",
        "plt.plot(t,d,'k-');\n",
        "plt.xlabel('time (days)');\n",
        "plt.ylabel('discharge (cfs)');\n",
        "plt.title('Neuse River Hydrograph');\n",
        "plt.show();"
      ],
      "execution_count": null,
      "outputs": [
        {
          "output_type": "display_data",
          "data": {
            "image/png": "[encoded data removed]",
            "text/plain": [
              "<Figure size 576x288 with 1 Axes>"
            ]
          },
          "metadata": {
            "tags": [],
            "needs_background": "light"
          }
        }
      ]
    },
    {
      "cell_type": "code",
      "metadata": {
        "scrolled": true,
        "id": "4wnlwDKK9EIQ",
        "outputId": "6d96bb99-bb96-4c5d-c45f-363105bf7ea3"
      },
      "source": [
        "# eda_01_19 log-log plot\n",
        "\n",
        "# get 10-year list of earthquake magnitudes from file\n",
        "d = np.genfromtxt('earthquake_magnitudes.txt', delimiter='\\t');\n",
        "time = 10; # 10 years of data\n",
        "\n",
        "# count up earthquakes with magnitudes in set of magnitude bins\n",
        "# 51 bins from magnitude 5 to magnitude 10\n",
        "c, e = np.histogram(d,51,(5,10));\n",
        "Nc = len(c);\n",
        "Ne = len(e);\n",
        "count = np.zeros((Nc,1));\n",
        "count[:,0]=c;\n",
        "edges = np.zeros((Ne,1));\n",
        "edges[:,0]=e;\n",
        "\n",
        "# convert count to rate\n",
        "A = np.zeros((3,1));\n",
        "r = count[0:-1]/time;\n",
        "\n",
        "# compute center piunt of magnitude bins\n",
        "m = (edges[0:-2]+edges[1:-1])/2;\n",
        "\n",
        "# convert magntude to energy using the Gutenberg-Richter magnitude-energy relation\n",
        "log10Ee = 1.5*m + 11.8; # in ergs\n",
        "log10Ej = log10Ee - 7;  # in joules\n",
        "E = 1e-7 * np.power(10,log10Ej);\n",
        "\n",
        "fig2 = plt.figure(2,figsize=(8,4));\n",
        "ax1 = plt.subplot(1, 1, 1);\n",
        "plt.loglog(E, r, 'ko', base=10);\n",
        "plt.axis([10**5, 10**12, 10**-1, 10**3])\n",
        "plt.xlabel('earthquake energy (joules)');\n",
        "plt.ylabel('earthquakes rate (per year)');\n",
        "plt.title('Earthquake rate vs energy');"
      ],
      "execution_count": null,
      "outputs": [
        {
          "output_type": "display_data",
          "data": {
            "image/png": "[encoded data removed]",
            "text/plain": [
              "<Figure size 576x288 with 1 Axes>"
            ]
          },
          "metadata": {
            "tags": [],
            "needs_background": "light"
          }
        }
      ]
    },
    {
      "cell_type": "code",
      "metadata": {
        "id": "QI_OxFmH9EIS"
      },
      "source": [
        "# eda_01_20 write matrix to file\n",
        "\n",
        "# get matri from file\n",
        "D = np.genfromtxt('neuse.txt', delimiter='\\t')\n",
        "[N, M]=D.shape;\n",
        "\n",
        "# time in column 0\n",
        "t = np.zeros((N,1));\n",
        "t[:,0] = D[:,0];\n",
        "\n",
        "# dischange in cfs in column 1\n",
        "d = np.zeros((N,1));\n",
        "d[:,0] = D[:,1];\n",
        "\n",
        "# conversion from cfs to m3/s\n",
        "f = 35.3146;\n",
        "dm = np.zeros((N,1));\n",
        "dm[:,0] = d[:,0]/f;\n",
        "\n",
        "# save matrix to file of tab-separated values\n",
        "Dm = np.concatenate( (t,dm),axis=1);\n",
        "np.savetxt(\"neuse_metric.txt\",Dm, delimiter=\"\\t\");"
      ],
      "execution_count": null,
      "outputs": []
    },
    {
      "cell_type": "code",
      "metadata": {
        "id": "vE0Ma6E39EIT",
        "outputId": "1d8a831c-fca2-4f34-c0d7-67990da6853f"
      },
      "source": [
        "# eda_01_21 Comments that focus on purpose of code\n",
        "\n",
        "# grid size\n",
        "L=9;\n",
        "\n",
        "# d1 axis\n",
        "d1min = 0;\n",
        "d1max = 10;\n",
        "d1 = np.zeros((L,1));\n",
        "d1[:,0] = np.linspace( d1min, d1max,L );\n",
        "\n",
        "# d2 axis\n",
        "d2min = 0;\n",
        "d2max = 10;\n",
        "d2 = np.zeros((L,1));\n",
        "d2[:,0] = np.linspace( d2min, d2max, L );\n",
        "\n",
        "# mean\n",
        "d1bar = 4;\n",
        "d2bar = 6;\n",
        "\n",
        "# covariance\n",
        "C = np.zeros((2,2));\n",
        "C = np.array( [[1, 0.5],\n",
        "               [0.5, 2]] );\n",
        "\n",
        "# Evaluate Normal distribution\n",
        "# with mean dbar and covariance C\n",
        "dd = np.zeros((2,1));\n",
        "CI = np.linalg.inv(C);\n",
        "detC = np.linalg.det(C);\n",
        "norm = 1/(2*pi*sqrt(detC));\n",
        "Pp = np.zeros((L,L));\n",
        "for i in range(L):\n",
        "    for j in range(L):\n",
        "        dd[:,0] = [d1[i,0]-d1bar, d2[j,0]-d2bar];\n",
        "        E = np.matmul(dd.T,np.matmul(CI,dd));\n",
        "        Pp[i,j] = norm*exp(-0.5 * E );\n",
        "        \n",
        "print(\"Pp\\n\",Pp);"
      ],
      "execution_count": null,
      "outputs": [
        {
          "output_type": "stream",
          "text": [
            "Pp\n",
            " [[4.17444794e-07 4.65113517e-06 2.12205161e-05 3.96451434e-05\n",
            "  3.03292111e-05 9.50099971e-06 1.21874982e-06 6.40172325e-08\n",
            "  1.37694406e-09]\n",
            " [6.07977966e-06 1.05859348e-04 7.54757893e-04 2.20355137e-03\n",
            "  2.63436390e-03 1.28963087e-03 2.58518809e-04 2.12205161e-05\n",
            "  7.13274679e-07]\n",
            " [1.48474124e-05 4.03992788e-04 4.50125404e-03 2.05366927e-02\n",
            "  3.83675932e-02 2.93518634e-02 9.19483347e-03 1.17947605e-03\n",
            "  6.19543006e-05]\n",
            " [6.07977966e-06 2.58518809e-04 4.50125404e-03 3.20931223e-02\n",
            "  9.36973886e-02 1.12016003e-01 5.48365001e-02 1.09924995e-02\n",
            "  9.02319306e-04]\n",
            " [4.17444794e-07 2.77386181e-05 7.54757893e-04 8.40944966e-03\n",
            "  3.83675932e-02 7.16801009e-02 5.48365001e-02 1.71782105e-02\n",
            "  2.20355137e-03]\n",
            " [4.80600699e-09 4.99058705e-07 2.12205161e-05 3.69485431e-04\n",
            "  2.63436390e-03 7.69115001e-03 9.19483347e-03 4.50125404e-03\n",
            "  9.02319306e-04]\n",
            " [9.27777606e-12 1.50554100e-09 1.00041077e-07 2.72208199e-06\n",
            "  3.03292111e-05 1.38375147e-04 2.58518809e-04 1.97771300e-04\n",
            "  6.19543006e-05]\n",
            " [3.00315338e-15 7.61566235e-13 7.90815037e-11 3.36263110e-09\n",
            "  5.85491511e-08 4.17444794e-07 1.21874982e-06 1.45702550e-06\n",
            "  7.13274679e-07]\n",
            " [1.62999128e-19 6.45947041e-17 1.04820352e-14 6.96516466e-13\n",
            "  1.89519643e-11 2.11161210e-10 9.63409941e-10 1.79988673e-09\n",
            "  1.37694406e-09]]\n"
          ],
          "name": "stdout"
        }
      ]
    },
    {
      "cell_type": "code",
      "metadata": {
        "id": "U2rUqsgz9EIT",
        "outputId": "0403d236-6b0e-4644-b4be-779c3184b0fb"
      },
      "source": [
        "# eda_01_21 Comments that focus on minutia\n",
        "\n",
        "# define L\n",
        "L=9;\n",
        "\n",
        "# create d1\n",
        "d1min = 0;\n",
        "d1max = 10;\n",
        "d1 = np.zeros((L,1));\n",
        "d1[:,0] = np.linspace( d1min, d1max,L );\n",
        "\n",
        "# create d2\n",
        "d2min = 0;\n",
        "d2max = 10;\n",
        "d2 = np.zeros((L,1));\n",
        "d2[:,0] = np.linspace( d2min, d2max, L );\n",
        "\n",
        "# define d1bar and d2bar\n",
        "d1bar = 4;\n",
        "d2bar = 6;\n",
        "\n",
        "# define C\n",
        "C = np.zeros((2,2));\n",
        "C = np.array( [[1, 0.5],\n",
        "               [0.5, 2]] );\n",
        "\n",
        "dd = np.zeros((2,1));     # define dd\n",
        "CI = np.linalg.inv(C);    # take inverse\n",
        "detC = np.linalg.det(C);  # take determinant\n",
        "norm = 1/(2*pi*sqrt(detC)); # fefine normalization\n",
        "Pp = np.zeros((L,L));     # define pp\n",
        "for i in range(L):      # loop over i\n",
        "    for j in range(L):  # loop over j\n",
        "        dd[:,0] = [d1[i,0]-d1bar, d2[j,0]-d2bar]; # det up dd\n",
        "        E = np.matmul(dd.T,np.matmul(CI,dd)); # compute E\n",
        "        Pp[i,j] = norm*exp(-0.5 * E ); # peform exponential\n",
        "        \n",
        "print(\"Pp\\n\",Pp);"
      ],
      "execution_count": null,
      "outputs": [
        {
          "output_type": "stream",
          "text": [
            "Pp\n",
            " [[4.17444794e-07 4.65113517e-06 2.12205161e-05 3.96451434e-05\n",
            "  3.03292111e-05 9.50099971e-06 1.21874982e-06 6.40172325e-08\n",
            "  1.37694406e-09]\n",
            " [6.07977966e-06 1.05859348e-04 7.54757893e-04 2.20355137e-03\n",
            "  2.63436390e-03 1.28963087e-03 2.58518809e-04 2.12205161e-05\n",
            "  7.13274679e-07]\n",
            " [1.48474124e-05 4.03992788e-04 4.50125404e-03 2.05366927e-02\n",
            "  3.83675932e-02 2.93518634e-02 9.19483347e-03 1.17947605e-03\n",
            "  6.19543006e-05]\n",
            " [6.07977966e-06 2.58518809e-04 4.50125404e-03 3.20931223e-02\n",
            "  9.36973886e-02 1.12016003e-01 5.48365001e-02 1.09924995e-02\n",
            "  9.02319306e-04]\n",
            " [4.17444794e-07 2.77386181e-05 7.54757893e-04 8.40944966e-03\n",
            "  3.83675932e-02 7.16801009e-02 5.48365001e-02 1.71782105e-02\n",
            "  2.20355137e-03]\n",
            " [4.80600699e-09 4.99058705e-07 2.12205161e-05 3.69485431e-04\n",
            "  2.63436390e-03 7.69115001e-03 9.19483347e-03 4.50125404e-03\n",
            "  9.02319306e-04]\n",
            " [9.27777606e-12 1.50554100e-09 1.00041077e-07 2.72208199e-06\n",
            "  3.03292111e-05 1.38375147e-04 2.58518809e-04 1.97771300e-04\n",
            "  6.19543006e-05]\n",
            " [3.00315338e-15 7.61566235e-13 7.90815037e-11 3.36263110e-09\n",
            "  5.85491511e-08 4.17444794e-07 1.21874982e-06 1.45702550e-06\n",
            "  7.13274679e-07]\n",
            " [1.62999128e-19 6.45947041e-17 1.04820352e-14 6.96516466e-13\n",
            "  1.89519643e-11 2.11161210e-10 9.63409941e-10 1.79988673e-09\n",
            "  1.37694406e-09]]\n"
          ],
          "name": "stdout"
        }
      ]
    },
    {
      "cell_type": "markdown",
      "metadata": {
        "id": "Npeo0RSF9EIV"
      },
      "source": [
        "\n"
      ]
    }
  ]
}