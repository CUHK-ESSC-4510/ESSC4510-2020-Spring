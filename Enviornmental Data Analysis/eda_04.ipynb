{
  "nbformat": 4,
  "nbformat_minor": 0,
  "metadata": {
    "kernelspec": {
      "display_name": "Python 3",
      "language": "python",
      "name": "python3"
    },
    "language_info": {
      "codemirror_mode": {
        "name": "ipython",
        "version": 3
      },
      "file_extension": ".py",
      "mimetype": "text/x-python",
      "name": "python",
      "nbconvert_exporter": "python",
      "pygments_lexer": "ipython3",
      "version": "3.8.5"
    },
    "colab": {
      "name": "eda_04.ipynb",
      "provenance": [],
      "toc_visible": true,
      "include_colab_link": true
    }
  },
  "cells": [
    {
      "cell_type": "markdown",
      "metadata": {
        "id": "view-in-github",
        "colab_type": "text"
      },
      "source": [
        "<a href=\"https://colab.research.google.com/github/zijinping/ESSC5602/blob/main/ESSC5602/Archive/eda_python/eda_04.ipynb\" target=\"_parent\"><img src=\"https://colab.research.google.com/assets/colab-badge.svg\" alt=\"Open In Colab\"/></a>"
      ]
    },
    {
      "cell_type": "markdown",
      "metadata": {
        "id": "RaJ0r1kHlJwu"
      },
      "source": [
        "# ESSC 4510 Statistical and data analysis for Earth System Science\n",
        "\n",
        "## Chapter 4 The power of linear models\n",
        "\n",
        "The following are the sample codes for the tutorial in the lecture and the book *Environmental Data Analysis with MATLAB*\n",
        "\n",
        "\n",
        "\n",
        "Modified by Jinping and Jeremy @2021-02"
      ]
    },
    {
      "cell_type": "code",
      "metadata": {
        "id": "0jGpEOIclCCm"
      },
      "source": [
        "# eda04_00 clear all variables and import vatious modules\n",
        "%reset -f\n",
        "import os; from datetime import date; import numpy as np\n",
        "from math import exp, pi, sin, sqrt, floor, ceil\n",
        "import scipy.linalg as la\n",
        "from matplotlib import pyplot as plt; import matplotlib.cm as cm ; from matplotlib.colors import ListedColormap\n",
        "\n",
        "# eda_draw function makes a \"pictorial matrix equation\"\n",
        "# arguments are vectors, matrices and strings\n",
        "# which are plotted in the order that the appear\n",
        "# except that strings starting with 'title ' are plotted\n",
        "# under the subseqeunt matrix or vector\n",
        "# always returns a status of 1\n",
        "\n",
        "def eda_draw(*argv):\n",
        "    bw = np.zeros((256,4));\n",
        "    v = 0.9*(256 - np.linspace( 0, 255, 256 ))/255;\n",
        "    bw[:,0], bw[:,1], bw[:,2], bw[:,3] = v, v, v, np.ones(256);\n",
        "    bwcmap = ListedColormap(bw);\n",
        "    # size of plot\n",
        "    W = 16; H = 4;\n",
        "    fig1 = plt.figure(1);\n",
        "    # figsize width and height in inches\n",
        "    fig1.set_size_inches(W,H);\n",
        "    ax1 = plt.subplot(1,1,1);\n",
        "    plt.axis([0, W, -H/2, H/2]);\n",
        "    plt.axis('off');\n",
        "    LM = W/6;    # matrix width and heoght\n",
        "    LV = W/40;   # vector width\n",
        "    FS = 0.12;    # character width\n",
        "    TO = 0.4;    # title vertical offset\n",
        "    SP = 0.2;    # space between objects\n",
        "    LS = 0.2;    # leading space\n",
        "    p = LS; # starting x-position\n",
        "    istitle=0; # flags presence of a title\n",
        "    for a in argv:\n",
        "        if isinstance(a,np.ndarray):\n",
        "            sh = np.shape(a);\n",
        "            if len(sh) == 1:  # conversion to nx1 array\n",
        "                n = sh[0];\n",
        "                m = 1;\n",
        "                ap = a;\n",
        "                a = np.zeros((n,1));\n",
        "                a[:,0] = ap;\n",
        "            else:\n",
        "                n = sh[0]; m = sh[1];\n",
        "            if m==1:\n",
        "                pold=p;\n",
        "                left=p; right=p+LV; bottom=-LM/2; top=LM/2;\n",
        "                plt.imshow( a, cmap=bwcmap, vmin=np.min(a), vmax=np.max(a), extent=(left,right,bottom,top) );\n",
        "                p = p+LV; pm = (p+pold)/2;\n",
        "                if istitle:\n",
        "                    plt.text(pm,-(LM/2)-TO,titlestr,horizontalalignment='center');\n",
        "                    istitle=0;\n",
        "                p = p+SP;\n",
        "            else:\n",
        "                pold=p; left=p; right=p+LM; bottom=-LM/2; top=LM/2;\n",
        "                plt.imshow( a, cmap=bwcmap, vmin=np.min(a), vmax=np.max(a), extent=(left,right,bottom,top) );\n",
        "                p = p+LM; pm = (p+pold)/2;\n",
        "                if istitle:\n",
        "                    plt.text(pm,-(LM/2)-TO,titlestr,horizontalalignment='center');\n",
        "                    istitle=0;\n",
        "                p = p+SP;\n",
        "        elif isinstance(a,str):\n",
        "            ns = len(a);\n",
        "            istitle=0;\n",
        "            if( ns>=6 ):\n",
        "                if 'title ' in a[0:6]:\n",
        "                    istitle=1;\n",
        "                    titlestr=a[6:];\n",
        "            if( istitle != 1):\n",
        "                plt.text(p,0,a);\n",
        "                p = p + ns*FS + SP;\n",
        "    plt.show();\n",
        "    return 1;"
      ],
      "execution_count": null,
      "outputs": []
    },
    {
      "cell_type": "markdown",
      "metadata": {
        "id": "SyS591Ti7ixM"
      },
      "source": [
        "### 4.3 Curve Fitting"
      ]
    },
    {
      "cell_type": "markdown",
      "metadata": {
        "id": "MZ2D_vr0xlgU"
      },
      "source": [
        "#### 4.3.1 Straight Line function\n",
        "\n",
        "Considering a simplest case of a straigt line or data scattered along a straight line. The data are assumed to satisfy the  relationship:\n",
        "\n",
        "  $$d_i = m_1 + m_2 x_i$$\n",
        "  \n",
        "Therefore the full representation and data kernal **G** be as following,\n",
        "\n",
        "$$\\begin{bmatrix} d_1 \\\\ d_2 \\\\ ...\\\\d_N \\end{bmatrix} = \\begin{bmatrix} 1 & x_1 \\\\ 1 & x_2 \\\\ ...\\\\1 & x_N \\end{bmatrix} \\begin{bmatrix} m_1 \\\\ m_2  \\end{bmatrix}$$\n",
        "\n",
        "Here $m_1$ and $m_2$ is the intercept and the slope of the line respectively. In order for this relationship to be linear in the form, the data kernal **G** must not contain any data or model data. Thus, we assume that the x_n are either model parameters nor data, but rather *auxiliary* parameters whose values are exactly know.\n",
        "\n",
        "Below section compute the data kernal **G** accordingly."
      ]
    },
    {
      "cell_type": "code",
      "metadata": {
        "id": "Bc3ggFFllCCy",
        "colab": {
          "base_uri": "https://localhost:8080/"
        },
        "outputId": "6c5f87dd-314f-4d5d-e489-6759fb42b0bc"
      },
      "source": [
        "# eda04_01: data kernel for straight-line linear model\n",
        "\n",
        "# make the auxillary variable x\n",
        "N=11;\n",
        "x = np.zeros((N,1));\n",
        "x[:,0] = np.linspace(0,N-1,N);\n",
        "\n",
        "G = np.zeros((N,2));\n",
        "# G[:,0] as has size 11, but np.ones((N,1)) and x has size 11x1,\n",
        "# so a ravel() is required to match size.  (Yuck!)\n",
        "G[:,0] = np.ones((N,1)).ravel();\n",
        "G[:,1] = x.ravel();\n",
        "\n",
        "\n",
        "print(G);"
      ],
      "execution_count": null,
      "outputs": [
        {
          "output_type": "stream",
          "text": [
            "[[ 1.  0.]\n",
            " [ 1.  1.]\n",
            " [ 1.  2.]\n",
            " [ 1.  3.]\n",
            " [ 1.  4.]\n",
            " [ 1.  5.]\n",
            " [ 1.  6.]\n",
            " [ 1.  7.]\n",
            " [ 1.  8.]\n",
            " [ 1.  9.]\n",
            " [ 1. 10.]]\n"
          ],
          "name": "stdout"
        }
      ]
    },
    {
      "cell_type": "markdown",
      "metadata": {
        "id": "aKmCufwECceO"
      },
      "source": [
        "##### 4.3.1.1 Forward model on straight line function\n",
        "To conduct a simple forward model based on the kernal we obtained, the data is computed by **G** dot **m**"
      ]
    },
    {
      "cell_type": "code",
      "metadata": {
        "colab": {
          "base_uri": "https://localhost:8080/",
          "height": 265
        },
        "id": "vDvEqeMzCqyf",
        "outputId": "8b51fac3-95a8-4fb2-8fa5-fb456434eb28"
      },
      "source": [
        "# Assume the straight line intercept at 1 and have a slope of 0.5\n",
        "\n",
        "m = np.array([1, 0.5])\n",
        "d = G.dot(m)\n",
        "\n",
        "plt.figure()\n",
        "plt.plot(x, d)\n",
        "plt.xlim(min(x), max(x))\n",
        "plt.show()"
      ],
      "execution_count": null,
      "outputs": [
        {
          "output_type": "display_data",
          "data": {
            "image/png": "[encoded data removed]",
            "text/plain": [
              "<Figure size 432x288 with 1 Axes>"
            ]
          },
          "metadata": {
            "tags": [],
            "needs_background": "light"
          }
        }
      ]
    },
    {
      "cell_type": "markdown",
      "metadata": {
        "id": "3QmvS1whz7PA"
      },
      "source": [
        "#### 4.3.2 Quadratic function\n",
        "\n",
        "The formula for a straight line can easily be generalized to any order polynomial, by simply adding additional model parameters that represent the coefficients of higher power of *x_n*. \n",
        "\n",
        "Below examplify a qudratic-cure linear model. \n",
        "\n",
        "$$d_i = m_1 + m_2 x_i + m_3 x_i^2$$\n",
        "\n",
        "Try to edit below code to create a third order polynomial and write in explicit form **d** = **G** **m**"
      ]
    },
    {
      "cell_type": "code",
      "metadata": {
        "id": "KAJH-W8NlCC0",
        "colab": {
          "base_uri": "https://localhost:8080/",
          "height": 435
        },
        "outputId": "f2f33fcc-77a4-423b-aeca-34ac32b72dbc"
      },
      "source": [
        "# eda04_02: data kernel for quadratic-curve linear model\n",
        "\n",
        "# make the auxillary variable x\n",
        "N=11;\n",
        "x = np.zeros((N,1));\n",
        "x[:,0] = np.linspace(0,1,N);\n",
        "\n",
        "G = np.zeros((N,3));\n",
        "# G[:,0] as has size 11, but np.ones((N,1)) and x has size 11x1,\n",
        "# so a ravel() is required to match size.  (Yuck!)\n",
        "G[:,0] = np.ones((N,1)).ravel();\n",
        "G[:,1] = x.ravel();\n",
        "G[:,2] = np.power(x,2).ravel();\n",
        "\n",
        "print(G);\n",
        "eda_draw('title G',G);"
      ],
      "execution_count": null,
      "outputs": [
        {
          "output_type": "stream",
          "text": [
            "[[1.   0.   0.  ]\n",
            " [1.   0.1  0.01]\n",
            " [1.   0.2  0.04]\n",
            " [1.   0.3  0.09]\n",
            " [1.   0.4  0.16]\n",
            " [1.   0.5  0.25]\n",
            " [1.   0.6  0.36]\n",
            " [1.   0.7  0.49]\n",
            " [1.   0.8  0.64]\n",
            " [1.   0.9  0.81]\n",
            " [1.   1.   1.  ]]\n"
          ],
          "name": "stdout"
        },
        {
          "output_type": "display_data",
          "data": {
            "image/png": "[encoded data removed]",
            "text/plain": [
              "<Figure size 1152x288 with 1 Axes>"
            ]
          },
          "metadata": {
            "tags": [],
            "needs_background": "light"
          }
        }
      ]
    },
    {
      "cell_type": "markdown",
      "metadata": {
        "id": "G4z4xmfj2CMJ"
      },
      "source": [
        "#### 4.3.3 Generalize to arbitrary polynomial degreee\n",
        "\n",
        "Below generalize the data kernal **G** to arbitrary degree N"
      ]
    },
    {
      "cell_type": "code",
      "metadata": {
        "id": "cTEvVnz5lCC1",
        "colab": {
          "base_uri": "https://localhost:8080/",
          "height": 249
        },
        "outputId": "bf1eafac-1701-4f59-abca-d9b7d5fd2180"
      },
      "source": [
        "# eda04_03: data kernel for quadratic-curve linear model\n",
        "\n",
        "# make the auxillary variable x on varange (0,1)\n",
        "N=32;\n",
        "x = np.zeros((N,1));\n",
        "x[:,0] = np.linspace(0,1,N);\n",
        "Dx = x[1,0]-x[0,0];\n",
        "\n",
        "M=N;  # square G\n",
        "\n",
        "G = np.zeros((N,M));\n",
        "G[:,0] = np.ones((N,1)).ravel();\n",
        "for i in range(1,M):\n",
        "    G[:,i] = np.power(x,i).ravel();\n",
        "\n",
        "#print(G.shape)\n",
        "eda_draw('title G',G);"
      ],
      "execution_count": null,
      "outputs": [
        {
          "output_type": "stream",
          "text": [
            "(32, 32)\n"
          ],
          "name": "stdout"
        },
        {
          "output_type": "display_data",
          "data": {
            "image/png": "[encoded data removed]",
            "text/plain": [
              "<Figure size 1152x288 with 1 Axes>"
            ]
          },
          "metadata": {
            "tags": [],
            "needs_background": "light"
          }
        }
      ]
    },
    {
      "cell_type": "markdown",
      "metadata": {
        "id": "8cxoWO1D2WSA"
      },
      "source": [
        "#### 4.3.4 Generalize to arbitrary functions\n",
        "\n",
        "The linear model is not limited to polynomials but also can  incorperate any curve in the following form.\n",
        "\n",
        "The data = a sum of functions\n",
        "\n",
        "$$d_i = m_1f_1(x_i) + m_2f_2(x_i) + ...  + m_Mf_M(x_i)$$\n",
        "\n",
        "\n",
        "\n"
      ]
    },
    {
      "cell_type": "markdown",
      "metadata": {
        "id": "dT4QQa8AWRfO"
      },
      "source": [
        "##### 4.3.4.1 Fourier Series\n",
        "\n",
        "Here we would like to consider a *important* special case -- called *Fourier analysis*. A representation of any function with a sum of cosines and seins of different wavelength $\\lambda_i$.\n",
        "\n",
        "The definition of Fourier series\n",
        "\n",
        "$$s_N(x) = \\frac{a_0}{2}+\\sum^N_n\\left[ a_n cos \\left( \\frac{2\\pi n x}{P}\\right) + b_n sin \\left(\\frac{2\\pi nx}{P} \\right) \\right] $$\n",
        "\n",
        "I.e., the data = a sum of cosines and sines\n",
        "\n",
        "$$ d_i = m_1cos \\left(\\frac{2\\pi x_i}{\\lambda_1} \\right) + m_2sin \\left(\\frac{2\\pi x_i}{\\lambda_1} \\right) + ... + m_{M-1}cos \\left(\\frac{2\\pi x_i}{\\lambda_{M/2}} \\right) +  m_M sin \\left(\\frac{2\\pi x_i}{\\lambda_{M/2}} \\right) $$\n",
        "\n",
        "Try to write data kernal **G** explicitly.\n",
        "\n",
        "The following illustrate computing data kernal using loop and functions."
      ]
    },
    {
      "cell_type": "code",
      "metadata": {
        "id": "0qWG255klCC1",
        "outputId": "ebd4770e-9e38-46e8-f2ef-5c5ad9fd39a3"
      },
      "source": [
        "# eda04_04: data kernel for Fourier sum\n",
        "\n",
        "# make the auxillary variable x on varange (0,1)\n",
        "N=32;\n",
        "x = np.zeros((N,1));\n",
        "x[:,0] = np.linspace(0,1,N);\n",
        "Dx = x[1,0]-x[0,0];\n",
        "xmax = x[N-1,0];\n",
        "\n",
        "M=N-2;  # G no suqare, since lambda=infinity case is omitted\n",
        "Mo2 = floor(M/2);\n",
        "\n",
        "# wavelengths lambda\n",
        "lam= 2*xmax * np.reciprocal( np.linspace(1,Mo2,Mo2) );\n",
        "\n",
        "G = np.zeros((N,M));\n",
        "for i in range(1,Mo2):\n",
        "    icos = 2*i;\n",
        "    isin = 2*i+1;\n",
        "    G[:,icos] = np.cos(2*pi*x/lam[i]).ravel();\n",
        "    G[:,isin] = np.sin(2*pi*x/lam[i]).ravel();\n",
        "\n",
        "eda_draw('title G',G);"
      ],
      "execution_count": null,
      "outputs": [
        {
          "output_type": "display_data",
          "data": {
            "image/png": "[encoded data removed]",
            "text/plain": [
              "<Figure size 1152x288 with 1 Axes>"
            ]
          },
          "metadata": {
            "tags": [],
            "needs_background": "light"
          }
        }
      ]
    },
    {
      "cell_type": "markdown",
      "metadata": {
        "id": "OmcvlFPLI8js"
      },
      "source": [
        "### 4.4 Mixture as data kernal\n",
        "\n",
        "The data kernal can also view as a concatenation of its columns, say $c^{(j)}$\n",
        "\n",
        "the data kernal = a concatentation of column-vectors \n",
        "\n",
        "$$ G = \\begin{bmatrix} G_{11} & G_{12} & G_{13} \\\\ G_{21} & G_{22} & G_{23} \\\\ G_{31} & G_{32} & G_{33}\\end{bmatrix} = \\left[ \\begin{bmatrix} G_{11} \\\\ G_{21} \\\\ G_{31} \\end{bmatrix}  \\begin{bmatrix} G_{12} \\\\ G_{22} \\\\ G_{32} \\end{bmatrix}  \\begin{bmatrix} G_{13} \\\\ G_{23} \\\\ G_{33}  \\end{bmatrix} \\right] = \\begin{bmatrix} \\mathbf{c}^{(1)} & \\mathbf{c}^{(2)} & \\mathbf{c}^{(3)} \\end{bmatrix}$$\n",
        "\n",
        "By using the column definition, **d** = **Gm** can be understood as a addition (linear mixture) of column-vectors.\n",
        "\n",
        "i.e., the data = a linear mixture of column-vectors\n",
        "\n",
        "$$ \\mathbf{d} = m_1 \\mathbf{c}^{(1)} + m_2 \\mathbf{c}^{(2)} + ... + m_M \\mathbf{c}^{(M)}  $$\n",
        "\n",
        "The summation can be throught of a *mixing* process. The data are a mixture of the columns of the data kernal. Each model parameter represents the amount of the corresponding column-vector in the mixture. For example, suppose a city has *M* major sources of a pollution, such as power plants, industrial facilities, vehicles (taken as a group), and so on. Each source emits into the atmosphere its unique combination of *N* different pollutants. An air sample taken from an arbitary point within the city will then comtain a mixture of pollutants from these sources:\n",
        "\n",
        "> *Pollutants in air = Mixture of sources*\n",
        "\n",
        "$$ \\begin{bmatrix} \\text{pollutant 1 in air} \\\\ \\text{pollutant 2 in air} \\\\ ...\\\\ \\text{pollutant N in air} \\end{bmatrix} = m_1 \\begin{bmatrix} \\text{pollutant 1 in source 1} \\\\ \\text{pollutant 2 in source 1} \\\\ ...\\\\ \\text{pollutant N in source 1} \\end{bmatrix} + ... + m_M \\begin{bmatrix} \\text{pollutant 1 in source M} \\\\ \\text{pollutant 2 in source M} \\\\ ...\\\\ \\text{pollutant N in source M} \\end{bmatrix} $$\n",
        "\n",
        "where the model parameters, $m_j$ , represent the contributions of the j-th source to the pollution at the particular site. *Note that this quantitative model assumes that the pollutants from each source are conseravative.* That there is no loss of the pollutant.\n",
        "\n",
        "---\n",
        "The below code shows how to extract the columns from the fourier series."
      ]
    },
    {
      "cell_type": "code",
      "metadata": {
        "id": "seMk9ixzlCC2",
        "outputId": "e2588e03-b19c-4f21-bc84-b2b05c5ef51f"
      },
      "source": [
        "# eda04_05: data kernel viewed as concatenation of columns\n",
        "\n",
        "# make the auxillary variable x on varange (0,1)\n",
        "N=32;\n",
        "x = np.zeros((N,1));\n",
        "x[:,0] = np.linspace(0,1,N);\n",
        "Dx = x[1,0]-x[0,0];\n",
        "xmax = x[N-1,0];\n",
        "\n",
        "M=N-2;  # G no suqare, since lambda=infinity case is omitted\n",
        "Mo2 = floor(M/2);\n",
        "\n",
        "# wavelengths lambda\n",
        "lam= 2*xmax * np.reciprocal( np.linspace(1,Mo2,Mo2) );\n",
        "\n",
        "G = np.zeros((N,M));\n",
        "for i in range(1,Mo2):\n",
        "    icos = 2*i;\n",
        "    isin = 2*i+1;\n",
        "    G[:,icos] = np.cos(2*pi*x/lam[i]).ravel();\n",
        "    G[:,isin] = np.sin(2*pi*x/lam[i]).ravel();\n",
        "    \n",
        "g1 = np.copy( G[:,0] );\n",
        "g2 = np.copy( G[:,1] );\n",
        "g3 = np.copy( G[:,2] );\n",
        "g4 = np.copy( G[:,3] );\n",
        "gM = np.copy( G[:,M-1] );\n",
        "\n",
        "eda_draw('title G',G,'=','title g1',g1,'title g2',g2,'title g3',g3,'title g4',g4,'. . .','title gM',gM);"
      ],
      "execution_count": null,
      "outputs": [
        {
          "output_type": "display_data",
          "data": {
            "image/png": "[encoded data removed]",
            "text/plain": [
              "<Figure size 1152x288 with 1 Axes>"
            ]
          },
          "metadata": {
            "tags": [],
            "needs_background": "light"
          }
        }
      ]
    },
    {
      "cell_type": "markdown",
      "metadata": {
        "id": "_Yi5KzfRSpZR"
      },
      "source": [
        "### 4.5 Weighted averages\n"
      ]
    },
    {
      "cell_type": "markdown",
      "metadata": {
        "id": "xRGMed9SVcnm"
      },
      "source": [
        "\n",
        "#### 4.5.1 Weighted averages\n",
        "\n"
      ]
    },
    {
      "cell_type": "code",
      "metadata": {
        "id": "nRObr8XdlCC3",
        "outputId": "25d81afb-1fa7-40c3-ffe5-ea58ff271219"
      },
      "source": [
        "# eda04_06: data kernel fro three point weighted avarage\n",
        "\n",
        "N=32;\n",
        "M=N; # G is square\n",
        "\n",
        "# case 1: 3-point average\n",
        "\n",
        "# symmetric averaging with weights w, where w[0,0] is the central weight\n",
        "Lw = 2;\n",
        "w = np.zeros((Lw,1));\n",
        "w[:,0] = [2,1];\n",
        "\n",
        "# normalization, to ensure row sums are unity\n",
        "n = 2*np.sum(w)-w[0];\n",
        "w = w/n;\n",
        "\n",
        "# construct data kernel\n",
        "r = np.zeros((N,1));\n",
        "c = np.zeros((M,1));\n",
        "r[0:Lw,0]=w.ravel();\n",
        "c[0:Lw,0]=w.ravel();\n",
        "G3 = la.toeplitz(r,c.T);\n",
        "\n",
        "# case 2: 5-point average\n",
        "\n",
        "# symmetric averaging with weights w, where w[0,0] is the central weight\n",
        "Lw = 3;\n",
        "w = np.zeros((Lw,1));\n",
        "w[:,0] = [3,2,1];\n",
        "\n",
        "# normalization, to ensure row sums are unity\n",
        "n = 2*np.sum(w)-w[0];\n",
        "w = w/n;\n",
        "\n",
        "# construct data kernel\n",
        "r = np.zeros((N,1));\n",
        "c = np.zeros((M,1));\n",
        "r[0:Lw,0]=w.ravel();\n",
        "c[0:Lw,0]=w.ravel();\n",
        "G5 = la.toeplitz(r,c.T);\n",
        "\n",
        "# case 3: 5-point average\n",
        "\n",
        "# symmetric averaging with weights w, where w[0,0] is the central weight\n",
        "Lw = 5;\n",
        "w = np.zeros((Lw,1));\n",
        "w[:,0] = [5,4,3,2,1];\n",
        "\n",
        "# normalization, to ensure row sums are unity\n",
        "n = 2*np.sum(w)-w[0];\n",
        "w = w/n;\n",
        "\n",
        "# construct data kernel\n",
        "r = np.zeros((N,1));\n",
        "c = np.zeros((M,1));\n",
        "r[0:Lw,0]=w.ravel();\n",
        "c[0:Lw,0]=w.ravel();\n",
        "G9 = la.toeplitz(r,c.T);\n",
        "\n",
        "eda_draw('title 3-pt',G3,'title 5-pt',G5,'title 9-pt',G9);\n",
        "\n"
      ],
      "execution_count": null,
      "outputs": [
        {
          "output_type": "display_data",
          "data": {
            "image/png": "[encoded data removed]",
            "text/plain": [
              "<Figure size 1152x288 with 1 Axes>"
            ]
          },
          "metadata": {
            "tags": [],
            "needs_background": "light"
          }
        }
      ]
    },
    {
      "cell_type": "markdown",
      "metadata": {
        "id": "QBqQhDnuVgFk"
      },
      "source": [
        "#### 4.5.2 Causal filter"
      ]
    },
    {
      "cell_type": "markdown",
      "metadata": {
        "id": "9GYDUVW2UqKb"
      },
      "source": [
        "### 4.6 Examining Error\n",
        "\n",
        "Suppose we have some estimated model parameters $M^{est}$. Here we have to exam the differences from the predicted data $d^{pre}$ and the observed data $d^{obs}$.\n",
        "\n",
        "Lets define an error vector **e**:\n",
        "\n",
        "$$e = d^{obs} - d^{pre} = d^{obs} - Gm^{est}$$\n",
        "\n",
        "And the total error is defined as:\n",
        "$$ E = \\mathbf{e}^T\\mathbf{e} = [d^{obs} - Gm^{est}]^T[d^{obs} - Gm^{est}]$$\n",
        "or\n",
        "$$ E = \\sum^N_{i=1}e^2_i$$"
      ]
    },
    {
      "cell_type": "code",
      "metadata": {
        "id": "No_wYEGplCC3",
        "outputId": "e4b8c622-18d5-4edc-aaf5-c3dbf7326af6"
      },
      "source": [
        "# eda04_07\n",
        "# reads in noisy, linear data from file\n",
        "#  and computes and plots prediction error for a particular\n",
        "# choice of intercept and slope, m1 and m2\n",
        "\n",
        "# model paramerters are intercept and slope\n",
        "M=2;\n",
        "m = np.zeros((M,1));\n",
        "m[:,0] = [1.1, 2.3];\n",
        "\n",
        "# load data from file\n",
        "T = np.genfromtxt('linedata01.txt', delimiter='\\t')\n",
        "[N, K]=T.shape;\n",
        "x = np.zeros((N,1));\n",
        "x[:,0] = T[:,0];\n",
        "dobs = np.zeros((N,1));\n",
        "dobs[:,0] = T[:,1];\n",
        "\n",
        "# linear data kernel\n",
        "G = np.zeros((N,2));\n",
        "G[:,0] = np.ones((N,1)).ravel();\n",
        "G[:,1] = x.ravel();\n",
        "dpre = np.matmul(G,m);\n",
        "\n",
        "#  plot data\n",
        "fig1 = plt.figure(1,figsize=(8,4));\n",
        "ax1 = plt.subplot(1,1,1);\n",
        "plt.axis([1.1*np.min(x), 1.1*np.max(x), 1.1*np.min(dobs), 1.1*np.max(dobs)])\n",
        "plt.plot(x,dobs,'ko');\n",
        "plt.plot(x,dpre,'k-');\n",
        "plt.xlabel('x)');\n",
        "plt.ylabel('d');\n",
        "titlestr = \"intercept %.2f slope %.2f\" % (m[0,0], m[1,0]);\n",
        "plt.title(titlestr);\n",
        "plt.show();"
      ],
      "execution_count": null,
      "outputs": [
        {
          "output_type": "display_data",
          "data": {
            "image/png": "[encoded data removed]",
            "text/plain": [
              "<Figure size 576x288 with 1 Axes>"
            ]
          },
          "metadata": {
            "tags": [],
            "needs_background": "light"
          }
        }
      ]
    },
    {
      "cell_type": "code",
      "metadata": {
        "id": "jF6vAYAqlCDO",
        "outputId": "73786d5b-fb5b-45a9-8752-3855e5876316"
      },
      "source": [
        "# eda04_08: grid search for intersept and slope\n",
        "# for problem of fittng straight line to noisy data\n",
        "\n",
        "# model paramerters\n",
        "M=2;\n",
        "m = np.zeros((M,1));\n",
        "\n",
        "# load data from file\n",
        "T = np.genfromtxt('linedata01.txt', delimiter='\\t')\n",
        "[N, K]=T.shape;\n",
        "x = np.zeros((N,1));\n",
        "x[:,0] = T[:,0];\n",
        "dobs = np.zeros((N,1));\n",
        "dobs[:,0] = T[:,1];\n",
        "\n",
        "# linear data kernel\n",
        "G = np.zeros((N,2));\n",
        "G[:,0] = np.ones((N,1)).ravel();\n",
        "G[:,1] = x.ravel();\n",
        "dpre = np.matmul(G,m);\n",
        "\n",
        "# define grid of intercepts and slopes\n",
        "L1 = 101;\n",
        "L2 = 101;\n",
        "m1min=0;\n",
        "m1max=4;\n",
        "m2min=0;\n",
        "m2max=4;\n",
        "m1= np.zeros((L1,1));\n",
        "m1[:,0] = np.linspace(m1min,m1max,L1);\n",
        "m2= np.zeros((L2,1));\n",
        "m2[:,0] = np.linspace(m2min,m2max,L2);\n",
        "e = np.zeros((N,1));\n",
        "E = np.zeros((L1,L2));\n",
        "\n",
        "for i in range(L1):\n",
        "    for j in range(L2):\n",
        "        m[:,0] = [m1[i], m2[j]];\n",
        "        dpre = np.matmul(G,m);\n",
        "        e[:,0] = (dobs-dpre).ravel();\n",
        "        E[i,j] = np.matmul(e.T,e);\n",
        "\n",
        "# best estimate is the one with smallest error\n",
        "k = np.argmin( E, axis=0 );\n",
        "Etemp = np.min( E, axis=0 );\n",
        "j = np.argmin(Etemp);\n",
        "i=k[j];\n",
        "Ebest = E[i,j];\n",
        "mbest = np.zeros((M,1));\n",
        "mbest[:,0] = [ m1[i,0],  m2[j,0] ];\n",
        "dpre = np.matmul(G,mbest);\n",
        "\n",
        "eda_draw('title E(m1,m2)',E);\n",
        "\n",
        "#  plot data\n",
        "fig2 = plt.figure(2,figsize=(8,4));\n",
        "ax1 = plt.subplot(1,1,1);\n",
        "plt.axis([1.1*np.min(x), 1.1*np.max(x), 1.1*np.min(dobs), 1.1*np.max(dobs)])\n",
        "plt.plot(x,dobs,'ko');\n",
        "plt.plot(x,dpre,'k-');\n",
        "plt.xlabel('x)');\n",
        "plt.ylabel('d');\n",
        "titlestr = \"intercept %.2f slope %.2f\" % (mbest[0,0], mbest[1,0]);\n",
        "plt.title(titlestr);\n",
        "plt.show();\n",
        "\n"
      ],
      "execution_count": null,
      "outputs": [
        {
          "output_type": "display_data",
          "data": {
            "image/png": "[encoded data removed]",
            "text/plain": [
              "<Figure size 1152x288 with 1 Axes>"
            ]
          },
          "metadata": {
            "tags": [],
            "needs_background": "light"
          }
        },
        {
          "output_type": "display_data",
          "data": {
            "image/png": "[encoded data removed]",
            "text/plain": [
              "<Figure size 576x288 with 1 Axes>"
            ]
          },
          "metadata": {
            "tags": [],
            "needs_background": "light"
          }
        }
      ]
    },
    {
      "cell_type": "code",
      "metadata": {
        "id": "KbkbRECZlCDP",
        "outputId": "b2fa5c28-fe63-43ae-f72e-0726f207a157"
      },
      "source": [
        "# eda04_09: grid search for intersept and slope\n",
        "# for problem of fittng straight line to noisy data\n",
        "\n",
        "# model paramerters\n",
        "M=2;\n",
        "m = np.zeros((M,1));\n",
        "\n",
        "# load data from file\n",
        "T = np.genfromtxt('linedata01.txt', delimiter='\\t')\n",
        "[N, K]=T.shape;\n",
        "x = np.zeros((N,1));\n",
        "x[:,0] = T[:,0];\n",
        "dobs = np.zeros((N,1));\n",
        "dobs[:,0] = T[:,1];\n",
        "\n",
        "# Part 1: shift left\n",
        "xshift=-2;\n",
        "xs = np.zeros((N,1));\n",
        "xs[:,0] = (x+xshift).ravel();\n",
        "\n",
        "# linear data kernel\n",
        "G = np.zeros((N,2));\n",
        "G[:,0] = np.ones((N,1)).ravel();\n",
        "G[:,1] = xs.ravel();\n",
        "dpre = np.matmul(G,m);\n",
        "\n",
        "# define grid of intercepts and slopes\n",
        "L1 = 101;\n",
        "L2 = 101;\n",
        "m1min=-10;\n",
        "m1max=10;\n",
        "m2min=-10;\n",
        "m2max=10;\n",
        "m1= np.zeros((L1,1));\n",
        "m1[:,0] = np.linspace(m1min,m1max,L1);\n",
        "m2= np.zeros((L2,1));\n",
        "m2[:,0] = np.linspace(m2min,m2max,L2);\n",
        "e = np.zeros((N,1));\n",
        "E = np.zeros((L1,L2));\n",
        "\n",
        "for i in range(L1):\n",
        "    for j in range(L2):\n",
        "        m[:,0] = [m1[i], m2[j]];\n",
        "        dpre = np.matmul(G,m);\n",
        "        e[:,0] = (dobs-dpre).ravel();\n",
        "        E0 = np.matmul(e.T,e);\n",
        "        E[i,j] = E0;\n",
        "    \n",
        "# best estimate is the one with smallest error\n",
        "k = np.argmin( E, axis=0 );\n",
        "Etemp = np.min( E, axis=0 );\n",
        "j = np.argmin(Etemp);\n",
        "i=k[j];\n",
        "Ebest = E[i,j];\n",
        "mbest = np.zeros((M,1));\n",
        "mbest[:,0] = [ m1[i,0],  m2[j,0] ];\n",
        "dpre = np.matmul(G,mbest);\n",
        "Esl = E;\n",
        "\n",
        "\n",
        "# Part 2: no shift \n",
        "xshift=0;\n",
        "xs = np.zeros((N,1));\n",
        "xs[:,0] = (x+xshift).ravel();\n",
        "\n",
        "# linear data kernel\n",
        "G = np.zeros((N,2));\n",
        "G[:,0] = np.ones((N,1)).ravel();\n",
        "G[:,1] = xs.ravel();\n",
        "dpre = np.matmul(G,m);\n",
        "\n",
        "# define grid of intercepts and slopes\n",
        "L1 = 101;\n",
        "L2 = 101;\n",
        "m1min=-10;\n",
        "m1max=10;\n",
        "m2min=-10;\n",
        "m2max=10;\n",
        "m1= np.zeros((L1,1));\n",
        "m1[:,0] = np.linspace(m1min,m1max,L1);\n",
        "m2= np.zeros((L2,1));\n",
        "m2[:,0] = np.linspace(m2min,m2max,L2);\n",
        "e = np.zeros((N,1));\n",
        "E = np.zeros((L1,L2));\n",
        "\n",
        "for i in range(L1):\n",
        "    for j in range(L2):\n",
        "        m[:,0] = [m1[i], m2[j]];\n",
        "        dpre = np.matmul(G,m);\n",
        "        e[:,0] = (dobs-dpre).ravel();\n",
        "        E0 = np.matmul(e.T,e);\n",
        "        E[i,j] = E0;\n",
        "    \n",
        "# best estimate is the one with smallest error\n",
        "k = np.argmin( E, axis=0 );\n",
        "Etemp = np.min( E, axis=0 );\n",
        "j = np.argmin(Etemp);\n",
        "i=k[j];\n",
        "Ebest = E[i,j];\n",
        "mbest = np.zeros((M,1));\n",
        "mbest[:,0] = [ m1[i,0],  m2[j,0] ];\n",
        "dpre = np.matmul(G,mbest);\n",
        "Ens = E;\n",
        "\n",
        "# Part 3: shift right\n",
        "xshift=2;\n",
        "xs = np.zeros((N,1));\n",
        "xs[:,0] = (x+xshift).ravel();\n",
        "\n",
        "# linear data kernel\n",
        "G = np.zeros((N,2));\n",
        "G[:,0] = np.ones((N,1)).ravel();\n",
        "G[:,1] = xs.ravel();\n",
        "dpre = np.matmul(G,m);\n",
        "\n",
        "# define grid of intercepts and slopes\n",
        "L1 = 101;\n",
        "L2 = 101;\n",
        "m1min=-10;\n",
        "m1max=10;\n",
        "m2min=-10;\n",
        "m2max=10;\n",
        "m1= np.zeros((L1,1));\n",
        "m1[:,0] = np.linspace(m1min,m1max,L1);\n",
        "m2= np.zeros((L2,1));\n",
        "m2[:,0] = np.linspace(m2min,m2max,L2);\n",
        "e = np.zeros((N,1));\n",
        "E = np.zeros((L1,L2));\n",
        "\n",
        "for i in range(L1):\n",
        "    for j in range(L2):\n",
        "        m[:,0] = [m1[i], m2[j]];\n",
        "        dpre = np.matmul(G,m);\n",
        "        e[:,0] = (dobs-dpre).ravel();\n",
        "        E0 = np.matmul(e.T,e);\n",
        "        E[i,j] = E0;\n",
        "    \n",
        "# best estimate is the one with smallest error\n",
        "k = np.argmin( E, axis=0 );\n",
        "Etemp = np.min( E, axis=0 );\n",
        "j = np.argmin(Etemp);\n",
        "i=k[j];\n",
        "Ebest = E[i,j];\n",
        "mbest = np.zeros((M,1));\n",
        "mbest[:,0] = [ m1[i,0],  m2[j,0] ];\n",
        "dpre = np.matmul(G,mbest);\n",
        "Esr = E;\n",
        "\n",
        "# lake log of error to reduce range of variation for plotting purposes\n",
        "eda_draw('title E shift left',np.log(Esl),'title E no shift',np.log(Ens),'title E shift right',np.log(Esr));"
      ],
      "execution_count": null,
      "outputs": [
        {
          "output_type": "display_data",
          "data": {
            "image/png": "[encoded data removed]",
            "text/plain": [
              "<Figure size 1152x288 with 1 Axes>"
            ]
          },
          "metadata": {
            "tags": [],
            "needs_background": "light"
          }
        }
      ]
    },
    {
      "cell_type": "markdown",
      "metadata": {
        "id": "VJlS4wejU8E_"
      },
      "source": [
        "### 4.7 Least squares to estimate model parameters"
      ]
    },
    {
      "cell_type": "code",
      "metadata": {
        "id": "LSgzevtnlCDQ",
        "outputId": "70fc2bae-6fd0-490c-9261-bdc412578f3c"
      },
      "source": [
        "# eda04_10: least-squares for straight line fit\n",
        "\n",
        "# model paramerters\n",
        "M=2;\n",
        "mest = np.zeros((M,1));\n",
        "\n",
        "# load data from file\n",
        "T = np.genfromtxt('linedata01.txt', delimiter='\\t')\n",
        "[N, K]=T.shape;\n",
        "x = np.zeros((N,1));\n",
        "x[:,0] = T[:,0];\n",
        "dobs = np.zeros((N,1));\n",
        "dobs[:,0] = T[:,1];\n",
        "\n",
        "# linear data kernel\n",
        "G = np.zeros((N,2));\n",
        "G[:,0] = np.ones((N,1)).ravel();\n",
        "G[:,1] = x.ravel();\n",
        "\n",
        "# siple least squares solution\n",
        "GTG = np.matmul(G.T,G);\n",
        "mest = a3 = la.solve( GTG, np.matmul(G.T, dobs)  );\n",
        "\n",
        "# eda04_10: variance calculation\n",
        "dpre = np.matmul(G, mest); # predicted data\n",
        "e = dobs - dpre;           # error\n",
        "E = np.matmul(e.T,e);      # total error\n",
        "sigmad2 = E/(N-M);         # posterior varaince of data\n",
        "Cm = sigmad2*la.inv(GTG);  # variance of model parameters\n",
        "sigmam1 = sqrt( Cm[0,0] ); # sqrt variance of model parameter 1\n",
        "sigmam2 = sqrt( Cm[1,1] ); # sqrt variance of model parameter 2\n",
        "\n",
        "# print model parameters and theoir 95% confidence intervals\n",
        "str1 = \"intercept %.3f +/- %.3f (%%95)\" % (mest[0,0],2*sigmam1);\n",
        "str2 = \"slope     %.3f +/- %.3f (%%95)\" % (mest[1,0],2*sigmam2);\n",
        "print(str1);\n",
        "print(str2);\n",
        "\n",
        "#  plot data\n",
        "fig2 = plt.figure(2,figsize=(8,6));\n",
        "ax1 = plt.subplot(2,1,1);\n",
        "plt.axis([1.1*np.min(x), 1.1*np.max(x), 1.1*np.min(dobs), 1.1*np.max(dobs)])\n",
        "plt.plot(x,dobs,'ko');\n",
        "plt.plot(x,dpre,'k-');\n",
        "plt.xlabel('x');\n",
        "plt.ylabel('d');\n",
        "titlestr = \"intercept %.2f slope %.2f\" % (mest[0,0], mest[1,0]);\n",
        "plt.title(titlestr);\n",
        "#  plot error, with different vertical scale\n",
        "ax2 = plt.subplot(2,1,2);\n",
        "plt.axis([1.1*np.min(x), 1.1*np.max(x), -3*np.amax(e), 3*np.amax(e)])\n",
        "plt.plot(x,e,'ko');\n",
        "plt.plot( [1.1*np.min(x), 1.1*np.max(x)],[0,0],'k:');\n",
        "plt.xlabel('x');\n",
        "plt.ylabel('e');\n",
        "plt.show();\n"
      ],
      "execution_count": null,
      "outputs": [
        {
          "output_type": "stream",
          "text": [
            "intercept 0.941 +/- 0.974 (%95)\n",
            "slope     2.019 +/- 0.308 (%95)\n"
          ],
          "name": "stdout"
        },
        {
          "output_type": "display_data",
          "data": {
            "image/png": "[encoded data removed]",
            "text/plain": [
              "<Figure size 576x432 with 2 Axes>"
            ]
          },
          "metadata": {
            "tags": [],
            "needs_background": "light"
          }
        }
      ]
    },
    {
      "cell_type": "code",
      "metadata": {
        "id": "1Wy_xi4ClCDT",
        "outputId": "cc4557ec-eccd-41c9-e5aa-28182c0ea2e3"
      },
      "source": [
        "# eda04_11 least squares for secular trend and annual cycles in black rock forest data\n",
        "\n",
        "# load data from file\n",
        "D = np.genfromtxt('brf_temp.txt', delimiter='\\t')\n",
        "[Nraw, K]=np.shape(D);\n",
        "traw = np.zeros((Nraw,1));\n",
        "traw[:,0] = D[:,0];\n",
        "draw = np.zeros((Nraw,1));\n",
        "draw[:,0] = D[:,1];\n",
        "\n",
        "# select only good data\n",
        "k = np.where( (draw[:,0]!=0)&(draw[:,0]>-40)&(draw[:,0]<38) );\n",
        "(K,N)=np.shape(k);\n",
        "t = np.zeros((N,1));\n",
        "t[:,0] = traw[k].ravel();\n",
        "dobs = np.zeros((N,1));\n",
        "dobs[:,0] = draw[k].ravel();\n",
        "\n",
        "Ty = 365.25;\n",
        "M= 4;\n",
        "G = np.zeros((N,M));\n",
        "G[:,0] = np.ones( (N,1) ).ravel();\n",
        "G[:,1] = t.ravel();\n",
        "G[:,2] = np.cos(2*pi*t/Ty).ravel();\n",
        "G[:,3] = np.sin(2*pi*t/Ty).ravel();\n",
        "\n",
        "# siple least squares solution\n",
        "GTG = np.matmul(G.T,G);\n",
        "mest = la.solve( GTG, np.matmul(G.T, dobs)  );\n",
        "\n",
        "# eda04_10: variance calculation\n",
        "dpre = np.matmul(G, mest); # predicted data\n",
        "e = dobs - dpre;           # error\n",
        "E = np.matmul(e.T,e);      # total error\n",
        "sigmad2 = E/(N-M);         # posterior varaince of data\n",
        "Cm = sigmad2*la.inv(GTG);  # variance of model parameters\n",
        "sigmam1 = sqrt( Cm[0,0] ); # sqrt variance of model parameter 1\n",
        "sigmam2 = sqrt( Cm[1,1] ); # sqrt variance of model parameter 2\n",
        "sigmam3 = sqrt( Cm[2,2] ); # sqrt variance of model parameter 3\n",
        "sigmam4 = sqrt( Cm[3,3] ); # sqrt variance of model parameter 4\n",
        "\n",
        "# write out slope and its confidence\n",
        "slopestr1 = \"slope %e +/- %e  C per day (95%%)\" % (mest[1,0], sigmam2);\n",
        "print(slopestr1);\n",
        "\n",
        "# convert to per year\n",
        "slopestr2 = \"slope %e +/- %e  C per year (95%%)\" % (Ty*mest[1,0], Ty*sigmam2);\n",
        "print(slopestr2);\n",
        "\n",
        "#  plot data\n",
        "fig1 = plt.figure(1,figsize=(16,6));\n",
        "ax1 = plt.subplot(3,1,1);\n",
        "plt.axis([t[0,0], t[N-1,0], -40, 40])\n",
        "plt.plot(t,dobs,'k.');\n",
        "plt.xlabel('time (days)');\n",
        "plt.ylabel('temperature (C)');\n",
        "ax2 = plt.subplot(3,1,2);\n",
        "plt.axis([t[0,0], t[N-1,0], -40, 40])\n",
        "plt.plot(t,dpre,'k-');\n",
        "plt.xlabel('time (days)');\n",
        "plt.ylabel('temperature (C)');\n",
        "ax3 = plt.subplot(3,1,3);\n",
        "plt.axis([t[0,0], t[N-1,0], -40, 40])\n",
        "plt.plot(t,e,'k-');\n",
        "plt.xlabel('time (days)');\n",
        "plt.ylabel('error (C)');\n"
      ],
      "execution_count": null,
      "outputs": [
        {
          "output_type": "stream",
          "text": [
            "slope -8.590021e-05 +/- 1.251757e-05  C per day (95%)\n",
            "slope -3.137505e-02 +/- 4.572041e-03  C per year (95%)\n"
          ],
          "name": "stdout"
        },
        {
          "output_type": "display_data",
          "data": {
            "image/png": "[encoded data removed]",
            "text/plain": [
              "<Figure size 1152x432 with 3 Axes>"
            ]
          },
          "metadata": {
            "tags": [],
            "needs_background": "light"
          }
        }
      ]
    },
    {
      "cell_type": "code",
      "metadata": {
        "id": "x_jrTKw1lCDU"
      },
      "source": [
        ""
      ],
      "execution_count": null,
      "outputs": []
    }
  ]
}