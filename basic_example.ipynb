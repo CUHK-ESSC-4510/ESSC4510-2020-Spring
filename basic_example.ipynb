{
 "metadata": {
  "name": "",
  "signature": "sha256:9debd5dc399e08197d939d579e6dcf268b039dcb1aa7db4862a406d1a367a61f"
 },
 "nbformat": 3,
 "nbformat_minor": 0,
 "worksheets": [
  {
   "cells": [
    {
     "cell_type": "markdown",
     "metadata": {},
     "source": [
      "# Using Treasure Data with Python and Pandas\n",
      "\n",
      "Treasure Data has a [python client](https://github.com/treasure-data/td-client-python), which means pandas/python users can connect directly from their iPython Notebooks.\n",
      "\n",
      "All you need is a Treasure Data account, which you can get from [here](https://console.treasuredata.com/users/sign_up)"
     ]
    },
    {
     "cell_type": "code",
     "collapsed": false,
     "input": [
      "import tdclient\n",
      "import pandas as pd\n",
      "import numpy as np\n",
      "%matplotlib inline"
     ],
     "language": "python",
     "metadata": {},
     "outputs": [],
     "prompt_number": 2
    },
    {
     "cell_type": "markdown",
     "metadata": {},
     "source": [
      "## Getting Treasure Data's apikey\n",
      "\n",
      "You need to get your Treasure Data API key. There are two ways to fetch your API keys after you sign up for Treasure Data.\n",
      "\n",
      "1. **From web console**: Please access [this URL](https://console.treasuredata.com/users/current). At the right most column, you can retrieve the API key. You want to use the Normal, not Write-Only API keys to run queries.\n",
      "2. **From CLI**: If you are the `td` command user, running the following command exposes your API key.\n",
      "    ```\n",
      "    td apikey:show\n",
      "    ```"
     ]
    },
    {
     "cell_type": "code",
     "collapsed": false,
     "input": [
      "apikey = 'Your API key here' # Setting your API key"
     ],
     "language": "python",
     "metadata": {},
     "outputs": [],
     "prompt_number": 3
    },
    {
     "cell_type": "code",
     "collapsed": false,
     "input": [
      "client = tdclient.Client(apikey) # instantiating the client"
     ],
     "language": "python",
     "metadata": {},
     "outputs": [],
     "prompt_number": 4
    },
    {
     "cell_type": "markdown",
     "metadata": {},
     "source": [
      "## Running a query against the sample dataset\n",
      "\n",
      "As you can see below, running queries is easy. Just use the `query` method, which accepts three arguments.\n",
      "\n",
      "1. The first argument is the name of the database\n",
      "2. The second argument is the query string (Make sure you use single quotes if you are using the Presto engine!)\n",
      "3. The optional keyword arguments. I am using `type='presto'` here to use Presto and not Hive."
     ]
    },
    {
     "cell_type": "code",
     "collapsed": false,
     "input": [
      "job = client.query('sample_datasets',\n",
      "                   \"SELECT TD_TIME_FORMAT(time, 'yyyy') AS t, SUM(volume) \"\n",
      "                   \"FROM nasdaq \"\n",
      "                   \"WHERE symbol='AMZN' \"\n",
      "                   \"GROUP BY TD_TIME_FORMAT(time, 'yyyy') \"\n",
      "                   \"ORDER BY t\", type='presto')"
     ],
     "language": "python",
     "metadata": {},
     "outputs": [],
     "prompt_number": 5
    },
    {
     "cell_type": "markdown",
     "metadata": {},
     "source": [
      "### Asynchronous execution\n",
      "\n",
      "Your query creates a job asynchronously. Please check the job is\n",
      "\n",
      "1. finished (`job.finished()` should return `True`)\n",
      "2. successful (`job.status()` should return `success`)"
     ]
    },
    {
     "cell_type": "code",
     "collapsed": false,
     "input": [
      "[job.status(), job.finished()]"
     ],
     "language": "python",
     "metadata": {},
     "outputs": [
      {
       "metadata": {},
       "output_type": "pyout",
       "prompt_number": 6,
       "text": [
        "[u'success', True]"
       ]
      }
     ],
     "prompt_number": 6
    },
    {
     "cell_type": "code",
     "collapsed": false,
     "input": [
      "results = [r for r in job.result()]"
     ],
     "language": "python",
     "metadata": {},
     "outputs": [],
     "prompt_number": 7
    },
    {
     "cell_type": "code",
     "collapsed": false,
     "input": [
      "results_df = pd.DataFrame.from_records(results, columns=('year', 'AMZN trade volume'))"
     ],
     "language": "python",
     "metadata": {},
     "outputs": [],
     "prompt_number": 8
    },
    {
     "cell_type": "code",
     "collapsed": false,
     "input": [
      "results_df.plot(x='year')"
     ],
     "language": "python",
     "metadata": {},
     "outputs": [
      {
       "metadata": {},
       "output_type": "pyout",
       "prompt_number": 9,
       "text": [
        "<matplotlib.axes._subplots.AxesSubplot at 0xba64748>"
       ]
      },
      {
       "metadata": {},
       "output_type": "display_data",
       "png": "[encoded data removed]",
       "text": [
        "<matplotlib.figure.Figure at 0xba64278>"
       ]
      }
     ],
     "prompt_number": 9
    }
   ],
   "metadata": {}
  }
 ]
}
